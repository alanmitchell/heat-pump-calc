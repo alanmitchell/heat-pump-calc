{
 "cells": [
  {
   "cell_type": "code",
   "execution_count": 2,
   "metadata": {},
   "outputs": [],
   "source": [
    "import pandas as pd\n",
    "import numpy as np\n",
    "from importlib import reload"
   ]
  },
  {
   "cell_type": "code",
   "execution_count": 7,
   "metadata": {},
   "outputs": [],
   "source": [
    "import library"
   ]
  },
  {
   "cell_type": "code",
   "execution_count": 8,
   "metadata": {},
   "outputs": [
    {
     "data": {
      "text/plain": [
       "<module 'library' from 'C:\\\\Users\\\\tabb9\\\\Documents\\\\GitHub\\\\heat-pump-calc\\\\library.py'>"
      ]
     },
     "execution_count": 8,
     "metadata": {},
     "output_type": "execute_result"
    }
   ],
   "source": [
    "reload(library)"
   ]
  },
  {
   "cell_type": "code",
   "execution_count": 6,
   "metadata": {},
   "outputs": [
    {
     "data": {
      "text/plain": [
       "Name                                  Anchorage\n",
       "Latitude                                  61.15\n",
       "Longitude                               -149.86\n",
       "FuelRefer                                     0\n",
       "FuelCityID                                  NaN\n",
       "Oil1Price                                  3.07\n",
       "Oil2Price                                   NaN\n",
       "PropanePrice                                4.5\n",
       "BirchPrice                                  325\n",
       "SprucePrice                                 345\n",
       "CoalPrice                                   175\n",
       "SteamPrice                                  NaN\n",
       "HotWaterPrice                               NaN\n",
       "MunicipalSalesTax                           NaN\n",
       "BoroughSalesTax                             NaN\n",
       "TMYid                                    702725\n",
       "TMYname                  LAKE HOOD SEAPLANE, AK\n",
       "ElecUtilities        [2, 293, 480, 1, 361, 548]\n",
       "GasPrice                                   0.97\n",
       "Name: 1, dtype: object"
      ]
     },
     "execution_count": 6,
     "metadata": {},
     "output_type": "execute_result"
    }
   ],
   "source": [
    "library.df_city.iloc[0]"
   ]
  },
  {
   "cell_type": "code",
   "execution_count": 9,
   "metadata": {},
   "outputs": [
    {
     "data": {
      "text/plain": [
       "ID                                                1\n",
       "Name                  Chugach Electric- Residential\n",
       "Active                                            1\n",
       "Type                                              1\n",
       "IsCommercial                                      0\n",
       "ChargesRCC                                        1\n",
       "FuelSurcharge                                  0.06\n",
       "PurchasedEnergyAdj                          0.00623\n",
       "PCE                                               0\n",
       "CO2                                             1.1\n",
       "CustomerChg                                       8\n",
       "DemandCharge                                    NaN\n",
       "Block1                                          NaN\n",
       "Block2                                          NaN\n",
       "Block3                                          NaN\n",
       "Block4                                          NaN\n",
       "Block5                                          NaN\n",
       "Rate1                                          0.11\n",
       "Rate2                                           NaN\n",
       "Rate3                                           NaN\n",
       "Rate4                                           NaN\n",
       "Rate5                                           NaN\n",
       "NameShort                                    Chugac\n",
       "Name: 1, dtype: object"
      ]
     },
     "execution_count": 9,
     "metadata": {},
     "output_type": "execute_result"
    }
   ],
   "source": [
    "library.df_util.iloc[0]"
   ]
  },
  {
   "cell_type": "code",
   "execution_count": 10,
   "metadata": {},
   "outputs": [
    {
     "data": {
      "text/plain": [
       "ID                                                                      1\n",
       "LibVersion                                              2/27/2018 0:00:00\n",
       "DiscountRate                                                         0.03\n",
       "RegSurcharge                                                       0.0032\n",
       "RegSurchargeElectric                                               0.0009\n",
       "PCEkWhLimit                                                           500\n",
       "PCEFundingPct                                                           1\n",
       "MiscNotes               Inflation factors and discount rate from 2011 ...\n",
       "Name: 0, dtype: object"
      ]
     },
     "execution_count": 10,
     "metadata": {},
     "output_type": "execute_result"
    }
   ],
   "source": [
    "library.misc_info"
   ]
  },
  {
   "cell_type": "code",
   "execution_count": 11,
   "metadata": {},
   "outputs": [
    {
     "data": {
      "text/html": [
       "<div>\n",
       "<style scoped>\n",
       "    .dataframe tbody tr th:only-of-type {\n",
       "        vertical-align: middle;\n",
       "    }\n",
       "\n",
       "    .dataframe tbody tr th {\n",
       "        vertical-align: top;\n",
       "    }\n",
       "\n",
       "    .dataframe thead th {\n",
       "        text-align: right;\n",
       "    }\n",
       "</style>\n",
       "<table border=\"1\" class=\"dataframe\">\n",
       "  <thead>\n",
       "    <tr style=\"text-align: right;\">\n",
       "      <th></th>\n",
       "      <th>Name</th>\n",
       "      <th>Latitude</th>\n",
       "      <th>Longitude</th>\n",
       "      <th>FuelRefer</th>\n",
       "      <th>FuelCityID</th>\n",
       "      <th>Oil1Price</th>\n",
       "      <th>Oil2Price</th>\n",
       "      <th>PropanePrice</th>\n",
       "      <th>BirchPrice</th>\n",
       "      <th>SprucePrice</th>\n",
       "      <th>CoalPrice</th>\n",
       "      <th>SteamPrice</th>\n",
       "      <th>HotWaterPrice</th>\n",
       "      <th>MunicipalSalesTax</th>\n",
       "      <th>BoroughSalesTax</th>\n",
       "      <th>TMYid</th>\n",
       "      <th>TMYname</th>\n",
       "      <th>ElecUtilities</th>\n",
       "      <th>GasPrice</th>\n",
       "    </tr>\n",
       "    <tr>\n",
       "      <th>ID</th>\n",
       "      <th></th>\n",
       "      <th></th>\n",
       "      <th></th>\n",
       "      <th></th>\n",
       "      <th></th>\n",
       "      <th></th>\n",
       "      <th></th>\n",
       "      <th></th>\n",
       "      <th></th>\n",
       "      <th></th>\n",
       "      <th></th>\n",
       "      <th></th>\n",
       "      <th></th>\n",
       "      <th></th>\n",
       "      <th></th>\n",
       "      <th></th>\n",
       "      <th></th>\n",
       "      <th></th>\n",
       "      <th></th>\n",
       "    </tr>\n",
       "  </thead>\n",
       "  <tbody>\n",
       "    <tr>\n",
       "      <th>240</th>\n",
       "      <td>Eyak</td>\n",
       "      <td>60.56</td>\n",
       "      <td>-145.7</td>\n",
       "      <td>1</td>\n",
       "      <td>38.0</td>\n",
       "      <td>3.01</td>\n",
       "      <td>NaN</td>\n",
       "      <td>4.00</td>\n",
       "      <td>NaN</td>\n",
       "      <td>NaN</td>\n",
       "      <td>NaN</td>\n",
       "      <td>NaN</td>\n",
       "      <td>NaN</td>\n",
       "      <td>NaN</td>\n",
       "      <td>NaN</td>\n",
       "      <td>702960</td>\n",
       "      <td>CORDOVA, AK</td>\n",
       "      <td>[37, 366, 553]</td>\n",
       "      <td>NaN</td>\n",
       "    </tr>\n",
       "    <tr>\n",
       "      <th>322</th>\n",
       "      <td>Faribanks - Chena Ridge</td>\n",
       "      <td>64.80</td>\n",
       "      <td>-148.0</td>\n",
       "      <td>1</td>\n",
       "      <td>293.0</td>\n",
       "      <td>2.89</td>\n",
       "      <td>NaN</td>\n",
       "      <td>3.99</td>\n",
       "      <td>350.0</td>\n",
       "      <td>250.0</td>\n",
       "      <td>NaN</td>\n",
       "      <td>10.5</td>\n",
       "      <td>23.4</td>\n",
       "      <td>NaN</td>\n",
       "      <td>NaN</td>\n",
       "      <td>702610</td>\n",
       "      <td>FAIRBANKS INTL ARPT, AK</td>\n",
       "      <td>[3, 380, 567, 683, 684]</td>\n",
       "      <td>2.08</td>\n",
       "    </tr>\n",
       "  </tbody>\n",
       "</table>\n",
       "</div>"
      ],
      "text/plain": [
       "                        Name  Latitude  Longitude  FuelRefer  FuelCityID  \\\n",
       "ID                                                                         \n",
       "240                     Eyak     60.56     -145.7          1        38.0   \n",
       "322  Faribanks - Chena Ridge     64.80     -148.0          1       293.0   \n",
       "\n",
       "     Oil1Price  Oil2Price  PropanePrice  BirchPrice  SprucePrice  CoalPrice  \\\n",
       "ID                                                                            \n",
       "240       3.01        NaN          4.00         NaN          NaN        NaN   \n",
       "322       2.89        NaN          3.99       350.0        250.0        NaN   \n",
       "\n",
       "     SteamPrice  HotWaterPrice  MunicipalSalesTax  BoroughSalesTax   TMYid  \\\n",
       "ID                                                                           \n",
       "240         NaN            NaN                NaN              NaN  702960   \n",
       "322        10.5           23.4                NaN              NaN  702610   \n",
       "\n",
       "                     TMYname            ElecUtilities  GasPrice  \n",
       "ID                                                               \n",
       "240              CORDOVA, AK           [37, 366, 553]       NaN  \n",
       "322  FAIRBANKS INTL ARPT, AK  [3, 380, 567, 683, 684]      2.08  "
      ]
     },
     "execution_count": 11,
     "metadata": {},
     "output_type": "execute_result"
    }
   ],
   "source": [
    "library.df_city.query('FuelRefer > 0')"
   ]
  }
 ],
 "metadata": {
  "kernelspec": {
   "display_name": "Python 3",
   "language": "python",
   "name": "python3"
  },
  "language_info": {
   "codemirror_mode": {
    "name": "ipython",
    "version": 3
   },
   "file_extension": ".py",
   "mimetype": "text/x-python",
   "name": "python",
   "nbconvert_exporter": "python",
   "pygments_lexer": "ipython3",
   "version": "3.6.4"
  }
 },
 "nbformat": 4,
 "nbformat_minor": 2
}
