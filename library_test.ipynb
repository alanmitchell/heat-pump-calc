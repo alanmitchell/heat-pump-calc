{
 "cells": [
  {
   "cell_type": "markdown",
   "metadata": {},
   "source": [
    "# Tests library module"
   ]
  },
  {
   "cell_type": "code",
   "execution_count": 80,
   "metadata": {},
   "outputs": [],
   "source": [
    "import math\n",
    "import pandas as pd\n",
    "import numpy as np\n",
    "from importlib import reload\n",
    "\n",
    "# import matplotlib pyplot commands\n",
    "from matplotlib.pyplot import *\n",
    " \n",
    "# Show Plots in the Notebook\n",
    "%matplotlib inline\n",
    " \n",
    "rcParams['figure.figsize']= (10, 8)   # set Chart Size\n",
    "rcParams['font.size'] = 14            # set Font size in Chart\n",
    "\n",
    "# 'style' the plot like fivethirtyeight.com website\n",
    "style.use('bmh')\n"
   ]
  },
  {
   "cell_type": "code",
   "execution_count": 3,
   "metadata": {},
   "outputs": [],
   "source": [
    "import library"
   ]
  },
  {
   "cell_type": "code",
   "execution_count": 117,
   "metadata": {},
   "outputs": [
    {
     "data": {
      "text/plain": [
       "<module 'library' from 'C:\\\\Users\\\\Alan\\\\Documents\\\\GitHub\\\\heat-pump-calc\\\\library.py'>"
      ]
     },
     "execution_count": 117,
     "metadata": {},
     "output_type": "execute_result"
    }
   ],
   "source": [
    "reload(library)"
   ]
  },
  {
   "cell_type": "code",
   "execution_count": 9,
   "metadata": {},
   "outputs": [
    {
     "data": {
      "text/plain": [
       "[('Adak', 2), ('Akhiok', 283), ('Akiachak', 84), ('Akiak', 85), ('Akutan', 3)]"
      ]
     },
     "execution_count": 9,
     "metadata": {},
     "output_type": "execute_result"
    }
   ],
   "source": [
    "library.cities()[:5]"
   ]
  },
  {
   "cell_type": "code",
   "execution_count": 10,
   "metadata": {},
   "outputs": [
    {
     "data": {
      "text/plain": [
       "Name                                                         Anchorage\n",
       "Latitude                                                         61.15\n",
       "Longitude                                                      -149.86\n",
       "FuelRefer                                                            0\n",
       "FuelCityID                                                         NaN\n",
       "Oil1Price                                                         3.07\n",
       "Oil2Price                                                          NaN\n",
       "PropanePrice                                                       4.5\n",
       "BirchPrice                                                         325\n",
       "SprucePrice                                                        345\n",
       "CoalPrice                                                          175\n",
       "SteamPrice                                                         NaN\n",
       "HotWaterPrice                                                      NaN\n",
       "MunicipalSalesTax                                                  NaN\n",
       "BoroughSalesTax                                                    NaN\n",
       "TMYid                                                           702730\n",
       "TMYname                                          ANCHORAGE INTL AP, AK\n",
       "ElecUtilities        [(Anchorage ML&P - Residential, 2), (Anchorage...\n",
       "GasPrice                                                          0.97\n",
       "Name: 1, dtype: object"
      ]
     },
     "execution_count": 10,
     "metadata": {},
     "output_type": "execute_result"
    }
   ],
   "source": [
    "library.city_from_id(1)"
   ]
  },
  {
   "cell_type": "code",
   "execution_count": 11,
   "metadata": {},
   "outputs": [
    {
     "data": {
      "text/plain": [
       "ID                                                                      1\n",
       "LibVersion                                              2/27/2018 0:00:00\n",
       "DiscountRate                                                         0.03\n",
       "RegSurcharge                                                       0.0032\n",
       "RegSurchargeElectric                                               0.0009\n",
       "PCEkWhLimit                                                           500\n",
       "PCEFundingPct                                                           1\n",
       "MiscNotes               Inflation factors and discount rate from 2011 ...\n",
       "Name: 0, dtype: object"
      ]
     },
     "execution_count": 11,
     "metadata": {},
     "output_type": "execute_result"
    }
   ],
   "source": [
    "library.miscellaneous_info()"
   ]
  },
  {
   "cell_type": "code",
   "execution_count": 12,
   "metadata": {},
   "outputs": [
    {
     "data": {
      "text/plain": [
       "ID                                                              1\n",
       "Name                                Chugach Electric- Residential\n",
       "Active                                                          1\n",
       "Type                                                            1\n",
       "IsCommercial                                                    0\n",
       "ChargesRCC                                                      1\n",
       "PCE                                                             0\n",
       "CO2                                                           1.1\n",
       "CustomerChg                                                     8\n",
       "DemandCharge                                                  NaN\n",
       "NameShort                                                  Chugac\n",
       "Blocks          [(nan, 0.17713), (nan, nan), (nan, nan), (nan,...\n",
       "Name: 1, dtype: object"
      ]
     },
     "execution_count": 12,
     "metadata": {},
     "output_type": "execute_result"
    }
   ],
   "source": [
    "library.util_from_id(1)"
   ]
  },
  {
   "cell_type": "code",
   "execution_count": 13,
   "metadata": {},
   "outputs": [
    {
     "name": "stdout",
     "output_type": "stream",
     "text": [
      "[(nan, 0.17713), (nan, nan), (nan, nan), (nan, nan), (nan, nan)]\n",
      "[(100.0, 0.8109000000000001), (400.0, 0.7409000000000001), (500.0, 0.6609), (1000.0, 0.5909), (nan, 0.5609000000000001)]\n"
     ]
    }
   ],
   "source": [
    "print(library.util_from_id(1).Blocks)\n",
    "print(library.util_from_id(383).Blocks)"
   ]
  },
  {
   "cell_type": "code",
   "execution_count": 6,
   "metadata": {},
   "outputs": [
    {
     "data": {
      "text/plain": [
       "[('Natural Gas', 1),\n",
       " ('Propane', 2),\n",
       " ('#1 Oil', 3),\n",
       " ('#2 Oil', 4),\n",
       " ('Birch Wood', 5),\n",
       " ('Spruce Wood', 6),\n",
       " ('Coal', 7),\n",
       " ('District Heat, Steam', 8),\n",
       " ('District Heat, Hot Water', 9)]"
      ]
     },
     "execution_count": 6,
     "metadata": {},
     "output_type": "execute_result"
    }
   ],
   "source": [
    "library.fuels()"
   ]
  },
  {
   "cell_type": "code",
   "execution_count": 17,
   "metadata": {},
   "outputs": [
    {
     "data": {
      "text/plain": [
       "desc         Spruce Wood\n",
       "unit                cord\n",
       "btus            1.81e+07\n",
       "co2                    0\n",
       "effic               0.63\n",
       "price_col    SprucePrice\n",
       "Name: 6, dtype: object"
      ]
     },
     "execution_count": 17,
     "metadata": {},
     "output_type": "execute_result"
    }
   ],
   "source": [
    "library.fuel_from_id(6)"
   ]
  },
  {
   "cell_type": "code",
   "execution_count": 8,
   "metadata": {},
   "outputs": [
    {
     "data": {
      "text/plain": [
       "345.0"
      ]
     },
     "execution_count": 8,
     "metadata": {},
     "output_type": "execute_result"
    }
   ],
   "source": [
    "library.fuel_price(6, 1)"
   ]
  },
  {
   "cell_type": "code",
   "execution_count": 14,
   "metadata": {},
   "outputs": [
    {
     "data": {
      "text/html": [
       "<div>\n",
       "<style scoped>\n",
       "    .dataframe tbody tr th:only-of-type {\n",
       "        vertical-align: middle;\n",
       "    }\n",
       "\n",
       "    .dataframe tbody tr th {\n",
       "        vertical-align: top;\n",
       "    }\n",
       "\n",
       "    .dataframe thead th {\n",
       "        text-align: right;\n",
       "    }\n",
       "</style>\n",
       "<table border=\"1\" class=\"dataframe\">\n",
       "  <thead>\n",
       "    <tr style=\"text-align: right;\">\n",
       "      <th></th>\n",
       "      <th>db_temp</th>\n",
       "      <th>rh</th>\n",
       "      <th>wind_spd</th>\n",
       "      <th>month</th>\n",
       "    </tr>\n",
       "  </thead>\n",
       "  <tbody>\n",
       "    <tr>\n",
       "      <th>2018-01-01 00:30:00</th>\n",
       "      <td>35.06</td>\n",
       "      <td>92</td>\n",
       "      <td>36.909510</td>\n",
       "      <td>1</td>\n",
       "    </tr>\n",
       "    <tr>\n",
       "      <th>2018-01-01 01:30:00</th>\n",
       "      <td>35.06</td>\n",
       "      <td>92</td>\n",
       "      <td>38.027980</td>\n",
       "      <td>1</td>\n",
       "    </tr>\n",
       "    <tr>\n",
       "      <th>2018-01-01 02:30:00</th>\n",
       "      <td>35.06</td>\n",
       "      <td>92</td>\n",
       "      <td>36.909510</td>\n",
       "      <td>1</td>\n",
       "    </tr>\n",
       "    <tr>\n",
       "      <th>2018-01-01 03:30:00</th>\n",
       "      <td>35.96</td>\n",
       "      <td>85</td>\n",
       "      <td>39.146450</td>\n",
       "      <td>1</td>\n",
       "    </tr>\n",
       "    <tr>\n",
       "      <th>2018-01-01 04:30:00</th>\n",
       "      <td>35.96</td>\n",
       "      <td>85</td>\n",
       "      <td>35.567346</td>\n",
       "      <td>1</td>\n",
       "    </tr>\n",
       "  </tbody>\n",
       "</table>\n",
       "</div>"
      ],
      "text/plain": [
       "                     db_temp  rh   wind_spd  month\n",
       "2018-01-01 00:30:00    35.06  92  36.909510      1\n",
       "2018-01-01 01:30:00    35.06  92  38.027980      1\n",
       "2018-01-01 02:30:00    35.06  92  36.909510      1\n",
       "2018-01-01 03:30:00    35.96  85  39.146450      1\n",
       "2018-01-01 04:30:00    35.96  85  35.567346      1"
      ]
     },
     "execution_count": 14,
     "metadata": {},
     "output_type": "execute_result"
    }
   ],
   "source": [
    "library.tmy_from_id(702190).head()"
   ]
  },
  {
   "cell_type": "code",
   "execution_count": 68,
   "metadata": {},
   "outputs": [
    {
     "data": {
      "text/plain": [
       "<module 'elec_cost' from 'C:\\\\Users\\\\Alan\\\\Documents\\\\GitHub\\\\heat-pump-calc\\\\elec_cost.py'>"
      ]
     },
     "execution_count": 68,
     "metadata": {},
     "output_type": "execute_result"
    }
   ],
   "source": [
    "import elec_cost\n",
    "reload(elec_cost)"
   ]
  },
  {
   "cell_type": "code",
   "execution_count": 62,
   "metadata": {},
   "outputs": [
    {
     "name": "stdout",
     "output_type": "stream",
     "text": [
      "ID                                                            383\n",
      "Name                  Gwitchyaa Zhee Utility Co - Commercial - Sm\n",
      "Active                                                          1\n",
      "Type                                                            1\n",
      "IsCommercial                                                    1\n",
      "ChargesRCC                                                      1\n",
      "PCE                                                           NaN\n",
      "CO2                                                             2\n",
      "CustomerChg                                                     0\n",
      "DemandCharge                                                  NaN\n",
      "NameShort                                                  Gwitch\n",
      "Blocks          [(100.0, 0.8109000000000001), (400.0, 0.740900...\n",
      "Name: 383, dtype: object\n",
      "[(100.0, 0.8109000000000001), (400.0, 0.7409000000000001), (500.0, 0.6609), (1000.0, 0.5909), (nan, 0.5609000000000001)]\n",
      "[(100.0, 0.8109000000000001), (300.0, 0.7409000000000001), (100.0, 0.6609), (500.0, 0.5909), (inf, 0.5609000000000001)]\n",
      "[(100.0, 0.7109000000000001), (300.0, 0.6409000000000001), (100.0, 0.5609000000000001), (500.0, 0.5909), (inf, 0.5609000000000001)]\n",
      "[(100.0, 1.4218000000000002), (300.0, 1.2818000000000003), (100.0, 1.1218000000000001), (500.0, 1.1818), (inf, 1.1218000000000001)]\n",
      "[(100.0, 0.7109000000000001), (100.0, 0.6409000000000001), (200.0, 0.7409000000000001), (100.0, 0.6609), (500.0, 0.5909), (inf, 0.5609000000000001)]\n",
      "[(100.0, 0.7109000000000001), (300.0, 0.6409000000000001), (100.0, 0.5609000000000001), (500.0, 0.4909), (inf, 0.4609000000000001)]\n",
      "[(100.0, 0.8109000000000001), (300.0, 0.7409000000000001), (100.0, 0.6609), (500.0, 0.5909), (inf, 0.5609000000000001)]\n",
      "[(200.0, 0.132), (200, 0.24200000000000002), (inf, 0.198)]\n"
     ]
    }
   ],
   "source": [
    "util_id = 383\n",
    "#util_id = 1\n",
    "ec = elec_cost.ElecCostCalc(util_id)\n",
    "print(ec.utility)\n",
    "print(ec.utility.Blocks)\n",
    "print(ec.final_blocks())\n",
    "ec = elec_cost.ElecCostCalc(util_id, pce=0.1)\n",
    "print(ec.final_blocks())\n",
    "ec = elec_cost.ElecCostCalc(util_id, pce=0.1, sales_tax=1.)\n",
    "print(ec.final_blocks())\n",
    "ec = elec_cost.ElecCostCalc(util_id, pce=0.1, pce_limit=200)\n",
    "print(ec.final_blocks())\n",
    "ec = elec_cost.ElecCostCalc(util_id, pce=0.1, pce_limit=math.nan)\n",
    "print(ec.final_blocks())\n",
    "ec = elec_cost.ElecCostCalc(util_id, pce=0.1, pce_limit=0)\n",
    "print(ec.final_blocks())\n",
    "ec = elec_cost.ElecCostCalc(util_id, blocks=[(400, 0.22), (math.nan, 0.18)], pce=0.1, pce_limit=200, sales_tax=0.1)\n",
    "print(ec.final_blocks())"
   ]
  },
  {
   "cell_type": "code",
   "execution_count": 54,
   "metadata": {},
   "outputs": [
    {
     "name": "stdout",
     "output_type": "stream",
     "text": [
      "23.29 44.15\n",
      "25.619 48.565000000000005\n",
      "11.0 5.5\n"
     ]
    }
   ],
   "source": [
    "util_id = 480  # ML&P Large Commercial\n",
    "ec = elec_cost.ElecCostCalc(util_id)\n",
    "print(ec.demand_charge, ec.customer_charge)\n",
    "ec = elec_cost.ElecCostCalc(util_id, sales_tax=0.1)\n",
    "print(ec.demand_charge, ec.customer_charge)\n",
    "ec = elec_cost.ElecCostCalc(util_id, sales_tax=0.1, demand_charge=10., customer_charge=5.)\n",
    "print(ec.demand_charge, ec.customer_charge)"
   ]
  },
  {
   "cell_type": "code",
   "execution_count": 53,
   "metadata": {},
   "outputs": [
    {
     "data": {
      "text/plain": [
       "[('Anchorage ML&P - Residential', 2),\n",
       " ('Anchorage ML&P - Commercial - Sm', 293),\n",
       " ('Anchorage ML&P - Commercial - Lg', 480),\n",
       " ('Chugach Electric- Residential', 1),\n",
       " ('Chugach Electric - Commercial - Sm', 361),\n",
       " ('Chugach Electric - Commercial - Lg', 548)]"
      ]
     },
     "execution_count": 53,
     "metadata": {},
     "output_type": "execute_result"
    }
   ],
   "source": [
    "library.city_from_id(1).ElecUtilities"
   ]
  },
  {
   "cell_type": "code",
   "execution_count": 78,
   "metadata": {},
   "outputs": [
    {
     "data": {
      "text/plain": [
       "129.096"
      ]
     },
     "execution_count": 78,
     "metadata": {},
     "output_type": "execute_result"
    }
   ],
   "source": [
    "ec = elec_cost.ElecCostCalc(480, sales_tax=0.1, demand_charge=13.29, customer_charge=34.15)\n",
    "ec.monthly_cost(700, 2)"
   ]
  },
  {
   "cell_type": "code",
   "execution_count": 74,
   "metadata": {},
   "outputs": [
    {
     "name": "stdout",
     "output_type": "stream",
     "text": [
      "ID                                                            480\n",
      "Name                             Anchorage ML&P - Commercial - Lg\n",
      "Active                                                          1\n",
      "Type                                                            1\n",
      "IsCommercial                                                    1\n",
      "ChargesRCC                                                      1\n",
      "PCE                                                           NaN\n",
      "CO2                                                           1.1\n",
      "CustomerChg                                                 44.15\n",
      "DemandCharge                                                23.29\n",
      "NameShort                                                  Anchor\n",
      "Blocks          [(nan, 0.0809), (nan, nan), (nan, nan), (nan, ...\n",
      "Name: 480, dtype: object\n",
      "[(nan, 0.0809), (nan, nan), (nan, nan), (nan, nan), (nan, nan)]\n"
     ]
    }
   ],
   "source": [
    "print(ec.utility)\n",
    "print(ec.utility.Blocks)"
   ]
  },
  {
   "cell_type": "code",
   "execution_count": 119,
   "metadata": {},
   "outputs": [
    {
     "name": "stdout",
     "output_type": "stream",
     "text": [
      "Paxson Lodge, Inc - Commercial - Lg: $1.70/kWh\n",
      "Paxson Lodge, Inc - Commercial - Sm: $1.70/kWh\n",
      "Paxson Lodge, Inc - Residential: $1.70/kWh\n"
     ]
    },
    {
     "data": {
      "image/png": "[encoded data removed]",
      "text/plain": [
       "<matplotlib.figure.Figure at 0x1e46ac0a1d0>"
      ]
     },
     "metadata": {},
     "output_type": "display_data"
    }
   ],
   "source": [
    "rates = []\n",
    "for util_nm, util_id in library.utilities():\n",
    "    ec = elec_cost.ElecCostCalc(util_id)\n",
    "    if ec.utility.Type==2:\n",
    "        continue\n",
    "    rate = ec.monthly_cost(500., 1.7)/500.\n",
    "    rates.append(rate)\n",
    "    if rate > 1.2:\n",
    "        print('{}: ${:.2f}/kWh'.format(util_nm, rate))\n",
    "hist(rates, bins=30);"
   ]
  },
  {
   "cell_type": "code",
   "execution_count": 96,
   "metadata": {},
   "outputs": [
    {
     "data": {
      "text/html": [
       "<div>\n",
       "<style scoped>\n",
       "    .dataframe tbody tr th:only-of-type {\n",
       "        vertical-align: middle;\n",
       "    }\n",
       "\n",
       "    .dataframe tbody tr th {\n",
       "        vertical-align: top;\n",
       "    }\n",
       "\n",
       "    .dataframe thead th {\n",
       "        text-align: right;\n",
       "    }\n",
       "</style>\n",
       "<table border=\"1\" class=\"dataframe\">\n",
       "  <thead>\n",
       "    <tr style=\"text-align: right;\">\n",
       "      <th></th>\n",
       "      <th>Name</th>\n",
       "      <th>ElecUtilities</th>\n",
       "      <th>elec_count</th>\n",
       "    </tr>\n",
       "    <tr>\n",
       "      <th>ID</th>\n",
       "      <th></th>\n",
       "      <th></th>\n",
       "      <th></th>\n",
       "    </tr>\n",
       "  </thead>\n",
       "  <tbody>\n",
       "    <tr>\n",
       "      <th>1</th>\n",
       "      <td>Anchorage</td>\n",
       "      <td>[(Anchorage ML&amp;P - Residential, 2), (Anchorage...</td>\n",
       "      <td>6</td>\n",
       "    </tr>\n",
       "    <tr>\n",
       "      <th>11</th>\n",
       "      <td>Auke Bay</td>\n",
       "      <td>[(AEL&amp;P - Residential, 11), (AEL&amp;P - Residenti...</td>\n",
       "      <td>6</td>\n",
       "    </tr>\n",
       "    <tr>\n",
       "      <th>15</th>\n",
       "      <td>Delta Junction</td>\n",
       "      <td>[(Golden Valley Electric - Residential, 3), (G...</td>\n",
       "      <td>5</td>\n",
       "    </tr>\n",
       "    <tr>\n",
       "      <th>19</th>\n",
       "      <td>Cantwell</td>\n",
       "      <td>[(Golden Valley Electric - Residential, 3), (G...</td>\n",
       "      <td>5</td>\n",
       "    </tr>\n",
       "    <tr>\n",
       "      <th>32</th>\n",
       "      <td>Clear</td>\n",
       "      <td>[(Golden Valley Electric - Residential, 3), (G...</td>\n",
       "      <td>5</td>\n",
       "    </tr>\n",
       "    <tr>\n",
       "      <th>182</th>\n",
       "      <td>Healy</td>\n",
       "      <td>[(Golden Valley Electric - Residential, 3), (G...</td>\n",
       "      <td>5</td>\n",
       "    </tr>\n",
       "    <tr>\n",
       "      <th>200</th>\n",
       "      <td>Juneau, Airport</td>\n",
       "      <td>[(AEL&amp;P - Residential, 11), (AEL&amp;P - Residenti...</td>\n",
       "      <td>6</td>\n",
       "    </tr>\n",
       "    <tr>\n",
       "      <th>202</th>\n",
       "      <td>Wrangell</td>\n",
       "      <td>[(Wrangell, City of - Residential, 128), (Wran...</td>\n",
       "      <td>6</td>\n",
       "    </tr>\n",
       "    <tr>\n",
       "      <th>292</th>\n",
       "      <td>Juneau, City of</td>\n",
       "      <td>[(AEL&amp;P - Residential, 11), (AEL&amp;P - Residenti...</td>\n",
       "      <td>6</td>\n",
       "    </tr>\n",
       "    <tr>\n",
       "      <th>293</th>\n",
       "      <td>Fairbanks</td>\n",
       "      <td>[(Golden Valley Electric - Residential, 3), (G...</td>\n",
       "      <td>5</td>\n",
       "    </tr>\n",
       "    <tr>\n",
       "      <th>301</th>\n",
       "      <td>Douglas</td>\n",
       "      <td>[(AEL&amp;P - Residential, 11), (AEL&amp;P - Residenti...</td>\n",
       "      <td>6</td>\n",
       "    </tr>\n",
       "    <tr>\n",
       "      <th>302</th>\n",
       "      <td>Nenana</td>\n",
       "      <td>[(Golden Valley Electric - Residential, 3), (G...</td>\n",
       "      <td>5</td>\n",
       "    </tr>\n",
       "    <tr>\n",
       "      <th>304</th>\n",
       "      <td>North Pole</td>\n",
       "      <td>[(Golden Valley Electric - Residential, 3), (G...</td>\n",
       "      <td>5</td>\n",
       "    </tr>\n",
       "    <tr>\n",
       "      <th>305</th>\n",
       "      <td>Anderson</td>\n",
       "      <td>[(Golden Valley Electric - Residential, 3), (G...</td>\n",
       "      <td>5</td>\n",
       "    </tr>\n",
       "    <tr>\n",
       "      <th>307</th>\n",
       "      <td>Salcha</td>\n",
       "      <td>[(Golden Valley Electric - Residential, 3), (G...</td>\n",
       "      <td>5</td>\n",
       "    </tr>\n",
       "    <tr>\n",
       "      <th>308</th>\n",
       "      <td>Denali Nat'l Park</td>\n",
       "      <td>[(Golden Valley Electric - Residential, 3), (G...</td>\n",
       "      <td>5</td>\n",
       "    </tr>\n",
       "    <tr>\n",
       "      <th>309</th>\n",
       "      <td>Ester</td>\n",
       "      <td>[(Golden Valley Electric - Residential, 3), (G...</td>\n",
       "      <td>5</td>\n",
       "    </tr>\n",
       "    <tr>\n",
       "      <th>322</th>\n",
       "      <td>Faribanks - Chena Ridge</td>\n",
       "      <td>[(Golden Valley Electric - Residential, 3), (G...</td>\n",
       "      <td>5</td>\n",
       "    </tr>\n",
       "  </tbody>\n",
       "</table>\n",
       "</div>"
      ],
      "text/plain": [
       "                        Name  \\\n",
       "ID                             \n",
       "1                  Anchorage   \n",
       "11                  Auke Bay   \n",
       "15            Delta Junction   \n",
       "19                  Cantwell   \n",
       "32                     Clear   \n",
       "182                    Healy   \n",
       "200          Juneau, Airport   \n",
       "202                 Wrangell   \n",
       "292          Juneau, City of   \n",
       "293                Fairbanks   \n",
       "301                  Douglas   \n",
       "302                   Nenana   \n",
       "304               North Pole   \n",
       "305                 Anderson   \n",
       "307                   Salcha   \n",
       "308        Denali Nat'l Park   \n",
       "309                    Ester   \n",
       "322  Faribanks - Chena Ridge   \n",
       "\n",
       "                                         ElecUtilities  elec_count  \n",
       "ID                                                                  \n",
       "1    [(Anchorage ML&P - Residential, 2), (Anchorage...           6  \n",
       "11   [(AEL&P - Residential, 11), (AEL&P - Residenti...           6  \n",
       "15   [(Golden Valley Electric - Residential, 3), (G...           5  \n",
       "19   [(Golden Valley Electric - Residential, 3), (G...           5  \n",
       "32   [(Golden Valley Electric - Residential, 3), (G...           5  \n",
       "182  [(Golden Valley Electric - Residential, 3), (G...           5  \n",
       "200  [(AEL&P - Residential, 11), (AEL&P - Residenti...           6  \n",
       "202  [(Wrangell, City of - Residential, 128), (Wran...           6  \n",
       "292  [(AEL&P - Residential, 11), (AEL&P - Residenti...           6  \n",
       "293  [(Golden Valley Electric - Residential, 3), (G...           5  \n",
       "301  [(AEL&P - Residential, 11), (AEL&P - Residenti...           6  \n",
       "302  [(Golden Valley Electric - Residential, 3), (G...           5  \n",
       "304  [(Golden Valley Electric - Residential, 3), (G...           5  \n",
       "305  [(Golden Valley Electric - Residential, 3), (G...           5  \n",
       "307  [(Golden Valley Electric - Residential, 3), (G...           5  \n",
       "308  [(Golden Valley Electric - Residential, 3), (G...           5  \n",
       "309  [(Golden Valley Electric - Residential, 3), (G...           5  \n",
       "322  [(Golden Valley Electric - Residential, 3), (G...           5  "
      ]
     },
     "execution_count": 96,
     "metadata": {},
     "output_type": "execute_result"
    }
   ],
   "source": [
    "dfc = library.df_city.copy()\n",
    "dfc['elec_count'] = [len(ut) for ut in dfc.ElecUtilities]\n",
    "dfc.query('elec_count > 3')[['Name', 'ElecUtilities', 'elec_count']]"
   ]
  },
  {
   "cell_type": "code",
   "execution_count": 99,
   "metadata": {},
   "outputs": [
    {
     "data": {
      "text/plain": [
       "[('AEL&P - Residential', 11),\n",
       " ('AEL&P - Residential Demand', 659),\n",
       " ('AEL&P - Residential Heat Pump', 663),\n",
       " ('AEL&P - Sm Commercial', 289),\n",
       " ('AEL&P - Lg Commercial', 476),\n",
       " ('AEL&P -  Sm Commercial Demand', 660)]"
      ]
     },
     "execution_count": 99,
     "metadata": {},
     "output_type": "execute_result"
    }
   ],
   "source": [
    "dfc.loc[301].ElecUtilities"
   ]
  },
  {
   "cell_type": "code",
   "execution_count": 118,
   "metadata": {},
   "outputs": [
    {
     "name": "stdout",
     "output_type": "stream",
     "text": [
      "Adak [0.47 0.47] 0.47 [677, 678]\n",
      "Akutan [0.77 0.77 0.77] 0.77 [9, 288, 475]\n",
      "Allakaket [0.5 0.5 0.5] 0.5 [249, 291, 478]\n",
      "Angoon [0.28 0.28 0.28] 0.28 [283, 393, 580]\n",
      "Aniak [0.3 0.3 0.3] 0.3 [17, 295, 482]\n",
      "Arctic Village [0.78 0.78 0.78] 0.78 [18, 296, 483]\n",
      "Atka [0.23 0.23 0.23] 0.23 [16, 294, 481]\n",
      "Bethel [0.11 0.11 0.11] 0.11 [23, 350, 537]\n",
      "Bettles [0.36 0.36 0.36] 0.36 [250, 351, 538]\n",
      "Central [0.31 0.31 0.31] 0.31 [33, 354, 541]\n",
      "Chalkyitsik [0.33 0.33 0.33] 0.33 [277, 355, 542]\n",
      "Chignik [0.24 0.24 0.24] 0.24 [31, 358, 545]\n",
      "Chitina [0.33 0.33 0.33] 0.33 [32, 360, 547]\n",
      "Circle [0.31 0.31 0.31] 0.31 [33, 354, 541]\n",
      "Coffman Cove [0.03 0.03 0.03] 0.03 [252, 363, 550]\n",
      "Cold Bay [0.45 0.45 0.45] 0.45 [47, 378, 565]\n",
      "Cordova [0.08 0.08 0.08] 0.08 [37, 366, 553]\n",
      "Atqasuk - Com [0.08 0.08 0.08] 0.08 [88, 427, 614]\n",
      "Kaktovik - Res [0.08 0.08 0.08] 0.08 [88, 427, 614]\n",
      "Nuiqsut [0.08  nan  nan] 0.08 [88, 673, 674]\n",
      "Point Hope Res [0.08 0.08 0.08] 0.08 [88, 427, 614]\n",
      "Point Lay [0.08 0.08 0.08] 0.08 [88, 427, 614]\n",
      "Wainwright Res [0.08 0.08 0.08] 0.08 [88, 427, 614]\n",
      "Ambler [0.29 0.29 0.29] 0.29 [202, 299, 486]\n",
      "Buckland [0.13 0.13 0.13] 0.13 [27, 353, 540]\n",
      "Deering [0.26 0.26 0.26] 0.26 [58, 394, 581]\n",
      "Kiana [0.31 0.31 0.31] 0.31 [216, 314, 501]\n",
      "Kivalina [0.31 0.31 0.31] 0.31 [217, 315, 502]\n",
      "Kobuk [0.32 0.32 0.32] 0.32 [242, 338, 525]\n",
      "Kotzebue [0.18 0.17 0.18] 0.18 [69, 405, 592]\n",
      "Noatak [0.52 0.52 0.52] 0.52 [226, 324, 511]\n",
      "Noorvik [0.27 0.52 0.52] 0.52 [227, 324, 512]\n",
      "Selawik [0.28 0.28 0.28] 0.28 [238, 334, 521]\n",
      "Shungnak [0.32 0.32 0.32] 0.32 [242, 338, 525]\n",
      "Brevig Mission [0.25 0.25 0.25] 0.25 [204, 301, 488]\n",
      "Diomede [0.22 0.22 0.22] 0.22 [38, 368, 555]\n",
      "Elim [0.29 0.29 0.29] 0.29 [207, 304, 491]\n",
      "Gambell [0.26 0.26 0.26] 0.26 [209, 306, 493]\n",
      "Golovin [0.13 0.13 0.13] 0.13 [49, 381, 568]\n",
      "Koyuk [0.27 0.27 0.27] 0.27 [218, 316, 503]\n",
      "Nome [0.08 0.08 0.08] 0.08 [87, 426, 613]\n",
      "Saint Michael [0.26 0.26 0.26] 0.26 [235, 340, 527]\n",
      "Savoonga [0.26 0.26 0.26] 0.26 [236, 332, 519]\n",
      "Shaktoolik [0.24 0.24 0.24] 0.24 [240, 336, 523]\n",
      "Shishmaref [0.29 0.29 0.29] 0.29 [241, 337, 524]\n",
      "Stebbins [0.26 0.26 0.26] 0.26 [243, 341, 528]\n",
      "Teller [0.28 0.28] 0.28 [281, 342]\n",
      "Unalakleet [0.16 0.16 0.16] 0.16 [133, 464, 651]\n",
      "Wales [0.33 0.33 0.33] 0.33 [247, 346, 533]\n",
      "White Mountain [0.25 0.25 0.25] 0.25 [127, 469, 656]\n",
      "Chevak [0.27 0.27 0.27] 0.27 [205, 302, 489]\n",
      "Emmonak [0.26 0.26 0.26] 0.26 [208, 305, 492]\n",
      "Hooper Bay [0.26 0.26 0.26] 0.26 [213, 310, 497]\n",
      "Kotlik [0.28 0.28 0.28] 0.28 [68, 404, 591]\n",
      "Marshall [0.26 0.26 0.26] 0.26 [220, 318, 505]\n",
      "Mountain Village [0.26 0.26 0.26] 0.26 [223, 321, 508]\n",
      "Pilot Station [0.3 0.3 0.3] 0.3 [231, 329, 516]\n",
      "Pitkas Point [0.28 0.28 0.28] 0.28 [234, 339, 526]\n",
      "Russian Mission [0.29 0.29 0.29] 0.29 [233, 331, 518]\n",
      "Saint Mary's [0.28 0.28 0.28] 0.28 [234, 339, 526]\n",
      "Scammon Bay [0.27 0.27 0.27] 0.27 [237, 333, 520]\n",
      "Nunum Iqua [0.19 0.19 0.19] 0.19 [105, 429, 616]\n",
      "Akiachak [0.26 0.26 0.26] 0.26 [7, 286, 473]\n",
      "Akiak [0.21 0.21 0.21] 0.21 [8, 287, 474]\n",
      "Atmautluak [0.24 0.24 0.24] 0.24 [19, 297, 484]\n",
      "Chefornak [0.23 0.23 0.23] 0.23 [83, 422, 609]\n",
      "Eek [0.28 0.28 0.28] 0.28 [206, 303, 490]\n",
      "Goodnews Bay [0.27 0.27 0.27] 0.27 [210, 307, 494]\n",
      "Kasigluk [0.26 0.26 0.26] 0.26 [229, 327, 514]\n",
      "Kipnuk [0.1 0.1 0.1] 0.1 [63, 398, 585]\n",
      "Kongiganak [0.2 0.2 0.2] 0.2 [99, 440, 627]\n",
      "Kwethluk [0.2 0.2 0.2] 0.2 [71, 407, 594]\n",
      "Kwigillingok [0.35 0.35 0.35] 0.35 [72, 408, 595]\n",
      "Mekoryok [0.28 0.28 0.28] 0.28 [221, 319, 506]\n",
      "Napakiak [0.32 0.32 0.32] 0.32 [81, 420, 607]\n",
      "Napaskiak [0.38 0.38 0.38] 0.38 [82, 421, 608]\n",
      "Newtok [0.41 0.41 0.41] 0.41 [124, 466, 653]\n",
      "Nightmute [0.25 0.25 0.25] 0.25 [225, 323, 510]\n",
      "Nunapitchuk [0.26 0.26 0.26] 0.26 [229, 327, 514]\n",
      "Oscarville [0.11 0.11 0.11] 0.11 [23, 350, 537]\n",
      "Quinhagak [0.25 0.25 0.25] 0.25 [232, 330, 517]\n",
      "Toksook Bay [0.25 0.25 0.25] 0.25 [245, 344, 531]\n",
      "Tuluksak [0.27 0.27 0.27] 0.27 [120, 460, 647]\n",
      "Tuntutuliak [0.22 0.22 0.22] 0.22 [121, 461, 648]\n",
      "Tununak [0.25 0.25 0.25] 0.25 [246, 345, 532]\n",
      "Chuathbaluk [0.71 0.71 0.71] 0.71 [79, 418, 605]\n",
      "Crooked Creek [0.71 0.71 0.71] 0.71 [79, 418, 605]\n",
      "Lime Village [0.78 0.78 0.78] 0.78 [273, 411, 598]\n",
      "Lower Kalskag [0.27 0.27 0.27] 0.27 [219, 317, 504]\n",
      "Sleetmute [0.71 0.71 0.71] 0.71 [79, 418, 605]\n",
      "Stony River [0.71 0.71 0.71] 0.71 [79, 418, 605]\n",
      "Upper Kalskag [0.27 0.27 0.27] 0.27 [219, 317, 504]\n",
      "Dillingham [0.15 0.15 0.15] 0.15 [90, 430, 617]\n",
      "Ekwok [0.32 0.32 0.32] 0.32 [372, 42, 559]\n",
      "Koliganek [0.21 0.21 0.21] 0.21 [67, 403, 590]\n",
      "Manokotak [0.24 0.24 0.24] 0.24 [76, 412, 599]\n",
      "New Stuyahok [0.32 0.32 0.32] 0.32 [224, 322, 509]\n",
      "Togiak [0.28 0.28 0.28] 0.28 [244, 343, 530]\n",
      "Twin Hills [0.28 0.28 0.28] 0.28 [279, 462, 649]\n",
      "King Salmon [0.27 0.27 0.27] 0.27 [80, 419, 606]\n",
      "Naknek [0.27 0.27 0.27] 0.27 [80, 419, 606]\n",
      "South Naknek [0.27 0.27 0.27] 0.27 [80, 419, 606]\n",
      "Chignik Lake [0.42 0.42 0.42] 0.42 [30, 357, 544]\n",
      "Egegik [0.41 0.41 0.41] 0.41 [41, 371, 558]\n",
      "Igiugig [0.64 0.64 0.64] 0.64 [57, 391, 578]\n",
      "Iliamna [0.39 0.39 0.39] 0.39 [56, 392, 579]\n",
      "Kokhanok [0.59 0.59 0.59] 0.59 [66, 402, 589]\n",
      "Levelock [0.36 0.36 0.36] 0.36 [74, 410, 597]\n",
      "Newhalen [0.39 0.39 0.39] 0.39 [56, 392, 579]\n",
      "Nondalton [0.39 0.39 0.39] 0.39 [56, 392, 579]\n",
      "Pedro Bay [0.34 0.34 0.34] 0.34 [93, 433, 620]\n",
      "Perryville [0.25 0.25 0.25] 0.25 [94, 435, 622]\n",
      "Pilot Point [0.28 0.28 0.28] 0.28 [96, 437, 624]\n",
      "Port Heiden [0.31 0.31 0.31] 0.31 [97, 439, 626]\n",
      "False Pass [0.11 0.11 0.11] 0.11 [45, 377, 564]\n",
      "Nelson Lagoon [0.57 0.57 0.57] 0.57 [84, 424, 611]\n",
      "Sand Point [0.2 0.2 0.2] 0.2 [102, 442, 629]\n",
      "Nikolski [0.57 0.57 0.57] 0.57 [122, 463, 650]\n",
      "Saint George [0.77 0.77 0.77] 0.77 [135, 448, 635]\n",
      "Saint Paul [0.24 0.24 0.24] 0.24 [107, 449, 636]\n",
      "Unalaska [0.14 0.14 0.14] 0.14 [123, 465, 652]\n",
      "Anvik [0.31 0.31 0.31] 0.31 [203, 300, 487]\n",
      "Grayling [0.29 0.29 0.29] 0.29 [211, 308, 495]\n",
      "Holy Cross [0.28 0.28 0.28] 0.28 [212, 309, 496]\n",
      "McGrath [0.37 0.37 0.37] 0.37 [78, 415, 602]\n",
      "Nikolai [0.42 0.42 0.42] 0.42 [86, 425, 612]\n",
      "Shageluk [0.31 0.31 0.31] 0.31 [239, 335, 522]\n",
      "Takotna [0.41 0.41 0.41] 0.41 [109, 451, 638]\n",
      "Beaver [0.56 0.56 0.56] 0.56 [22, 349, 536]\n",
      "Fort Yukon [0.37 0.37 0.37] 0.37 [51, 383, 570]\n",
      "Venetie [0.34 0.34 0.34] 0.34 [280, 467, 654]\n",
      "Alatna [0.5 0.5 0.5] 0.5 [248, 290, 477]\n",
      "Evansville [0.36 0.36 0.36] 0.36 [257, 562, 375]\n",
      "Galena [0.2 0.2 0.2] 0.2 [48, 379, 566]\n",
      "Hughes [0.49 0.49 0.49] 0.49 [55, 389, 576]\n",
      "Huslia [0.3 0.3 0.3] 0.3 [214, 311, 498]\n",
      "Kaltag [0.29 0.29 0.29] 0.29 [215, 312, 499]\n",
      "Koyukuk [0.31 0.31 0.31] 0.31 [70, 406, 593]\n",
      "Manley Hot Springs [0.58 0.58 0.58] 0.58 [75, 413, 600]\n",
      "Minto [0.27 0.27 0.27] 0.27 [222, 320, 507]\n",
      "Nulato [0.29 0.29 0.29] 0.29 [228, 326, 513]\n",
      "Ruby [0.3 0.3 0.3] 0.3 [101, 441, 628]\n",
      "Stevens Village [0.51 0.51 0.51] 0.51 [274, 450, 637]\n",
      "Tanana [0.32 0.32 0.32] 0.32 [111, 453, 640]\n",
      "Dot Lake [0.14 0.14 0.14] 0.14 [254, 369, 556]\n",
      "Eagle [0.33 0.33 0.33] 0.33 [256, 370, 557]\n",
      "Northway [0.32 0.32 0.32] 0.32 [266, 428, 615]\n",
      "Tanacross [0.22 0.22 0.22] 0.22 [270, 459, 646]\n",
      "Tetlin [0.22 0.22 0.22] 0.22 [268, 457, 644]\n",
      "Tok [0.22 0.22 0.22] 0.22 [270, 459, 646]\n",
      "Haines [0.03 0.03 0.03] 0.03 [258, 384, 571]\n",
      "Elfin Cove [0.35 0.35 0.35] 0.35 [43, 373, 560]\n",
      "Gustavus [0.09 0.09] 0.09 [50, 382]\n",
      "Hoonah [0.28 0.28 0.28] 0.28 [283, 393, 580]\n",
      "Pelican [0.22 0.22 0.22] 0.22 [98, 434, 621]\n",
      "Yakutat [0.26 0.26 0.26] 0.26 [129, 471, 658]\n",
      "Klukwan [0.28 0.28 0.28] 0.28 [283, 393, 580]\n",
      "Skagway [0.03 0.03 0.03] 0.03 [267, 446, 633]\n",
      "Tenakee Springs [0.31 0.31 0.31] 0.31 [115, 456, 643]\n",
      "Kake [0.28 0.28 0.28] 0.28 [283, 393, 580]\n",
      "Hollis [0.03 0.03 0.03] 0.03 [260, 386, 573]\n",
      "Craig [0.03 0.03 0.03] 0.03 [253, 367, 554]\n",
      "Hydaburg [0.03 0.03 0.03] 0.03 [261, 390, 577]\n",
      "Kasaan [0.03 0.03 0.03] 0.03 [262, 395, 582]\n",
      "Klawock [0.03 0.03 0.03] 0.03 [263, 399, 586]\n",
      "Thorne Bay [0.03 0.03 0.03] 0.03 [269, 458, 645]\n",
      "Chistochina [0.29 0.29 0.29] 0.29 [251, 359, 546]\n",
      "Mentasta Lake [0.29 0.29 0.29] 0.29 [264, 416, 603]\n",
      "Slana [0.29 0.29 0.29] 0.29 [282, 447, 634]\n",
      "Eyak [0.08 0.08 0.08] 0.08 [37, 366, 553]\n",
      "Chenega [0.35 0.35 0.35] 0.35 [278, 356, 543]\n",
      "Tatitlek [0.54 0.54 0.54] 0.54 [112, 454, 641]\n",
      "Akhiok [0.38 0.38 0.38] 0.38 [6, 285, 472]\n",
      "Karluk [0.37 0.37 0.37] 0.37 [15, 292, 479]\n",
      "Larsen Bay [0.0001 0.0001 0.0001] 0.0001 [73, 409, 596]\n",
      "Old Harbor [0.3 0.3 0.3] 0.3 [230, 328, 515]\n",
      "Ouzinkie [0.12 0.12 0.12] 0.12 [91, 431, 618]\n",
      "Alakanuk [0.26 0.26 0.26] 0.26 [201, 298, 485]\n",
      "Aleknagik [0.15 0.15 0.15] 0.15 [90, 430, 617]\n",
      "Anaktuvuk Pass - C [0.08 0.08 0.08] 0.08 [88, 427, 614]\n",
      "Dutch Harbor [0.14 0.14 0.14] 0.14 [123, 465, 652]\n",
      "Whale Pass [0.03 0.03 0.03] 0.03 [271, 468, 655]\n",
      "Naukati [0.03 0.03 0.03] 0.03 [199, 423, 610]\n",
      "Anaktuvuk Pass Res [0.08 0.08 0.08] 0.08 [88, 427, 614]\n",
      "Atqasuk - Res [0.08 0.08 0.08] 0.08 [87, 426, 614]\n",
      "Kaktovik - Com [0.08 0.08 0.08] 0.08 [88, 427, 614]\n",
      "Point Hope Com [0.08 0.08 0.08] 0.08 [88, 427, 614]\n",
      "Wainwright Com [0.08 0.08 0.08] 0.08 [88, 427, 614]\n"
     ]
    }
   ],
   "source": [
    "df_city = library.df_city\n",
    "df_util = library.df_util\n",
    "for ix, cty in df_city.iterrows():\n",
    "    util_ids = [id for nm, id in cty.ElecUtilities]\n",
    "    pces = df_util.loc[util_ids].PCE\n",
    "    pce_vals = pces[pces > 0.0]\n",
    "    pce_max = pces.max()\n",
    "    if pce_max > 0:\n",
    "        print(cty.Name, pces.values, pce_max, util_ids)"
   ]
  }
 ],
 "metadata": {
  "kernelspec": {
   "display_name": "Python 3",
   "language": "python",
   "name": "python3"
  },
  "language_info": {
   "codemirror_mode": {
    "name": "ipython",
    "version": 3
   },
   "file_extension": ".py",
   "mimetype": "text/x-python",
   "name": "python",
   "nbconvert_exporter": "python",
   "pygments_lexer": "ipython3",
   "version": "3.6.4"
  }
 },
 "nbformat": 4,
 "nbformat_minor": 2
}
