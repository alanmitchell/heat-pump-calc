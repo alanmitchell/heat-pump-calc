{
 "cells": [
  {
   "cell_type": "markdown",
   "metadata": {},
   "source": [
    "# Tests library module"
   ]
  },
  {
   "cell_type": "code",
   "execution_count": 2,
   "metadata": {},
   "outputs": [],
   "source": [
    "import math\n",
    "import pandas as pd\n",
    "import numpy as np\n",
    "from importlib import reload"
   ]
  },
  {
   "cell_type": "code",
   "execution_count": 3,
   "metadata": {},
   "outputs": [],
   "source": [
    "import library"
   ]
  },
  {
   "cell_type": "code",
   "execution_count": 31,
   "metadata": {},
   "outputs": [
    {
     "data": {
      "text/plain": [
       "<module 'library' from 'C:\\\\Users\\\\Alan\\\\Documents\\\\GitHub\\\\heat-pump-calc\\\\library.py'>"
      ]
     },
     "execution_count": 31,
     "metadata": {},
     "output_type": "execute_result"
    }
   ],
   "source": [
    "reload(library)"
   ]
  },
  {
   "cell_type": "code",
   "execution_count": 9,
   "metadata": {},
   "outputs": [
    {
     "data": {
      "text/plain": [
       "[('Adak', 2), ('Akhiok', 283), ('Akiachak', 84), ('Akiak', 85), ('Akutan', 3)]"
      ]
     },
     "execution_count": 9,
     "metadata": {},
     "output_type": "execute_result"
    }
   ],
   "source": [
    "library.cities()[:5]"
   ]
  },
  {
   "cell_type": "code",
   "execution_count": 10,
   "metadata": {},
   "outputs": [
    {
     "data": {
      "text/plain": [
       "Name                                                         Anchorage\n",
       "Latitude                                                         61.15\n",
       "Longitude                                                      -149.86\n",
       "FuelRefer                                                            0\n",
       "FuelCityID                                                         NaN\n",
       "Oil1Price                                                         3.07\n",
       "Oil2Price                                                          NaN\n",
       "PropanePrice                                                       4.5\n",
       "BirchPrice                                                         325\n",
       "SprucePrice                                                        345\n",
       "CoalPrice                                                          175\n",
       "SteamPrice                                                         NaN\n",
       "HotWaterPrice                                                      NaN\n",
       "MunicipalSalesTax                                                  NaN\n",
       "BoroughSalesTax                                                    NaN\n",
       "TMYid                                                           702730\n",
       "TMYname                                          ANCHORAGE INTL AP, AK\n",
       "ElecUtilities        [(Anchorage ML&P - Residential, 2), (Anchorage...\n",
       "GasPrice                                                          0.97\n",
       "Name: 1, dtype: object"
      ]
     },
     "execution_count": 10,
     "metadata": {},
     "output_type": "execute_result"
    }
   ],
   "source": [
    "library.city_from_id(1)"
   ]
  },
  {
   "cell_type": "code",
   "execution_count": 11,
   "metadata": {},
   "outputs": [
    {
     "data": {
      "text/plain": [
       "ID                                                                      1\n",
       "LibVersion                                              2/27/2018 0:00:00\n",
       "DiscountRate                                                         0.03\n",
       "RegSurcharge                                                       0.0032\n",
       "RegSurchargeElectric                                               0.0009\n",
       "PCEkWhLimit                                                           500\n",
       "PCEFundingPct                                                           1\n",
       "MiscNotes               Inflation factors and discount rate from 2011 ...\n",
       "Name: 0, dtype: object"
      ]
     },
     "execution_count": 11,
     "metadata": {},
     "output_type": "execute_result"
    }
   ],
   "source": [
    "library.miscellaneous_info()"
   ]
  },
  {
   "cell_type": "code",
   "execution_count": 12,
   "metadata": {},
   "outputs": [
    {
     "data": {
      "text/plain": [
       "ID                                                              1\n",
       "Name                                Chugach Electric- Residential\n",
       "Active                                                          1\n",
       "Type                                                            1\n",
       "IsCommercial                                                    0\n",
       "ChargesRCC                                                      1\n",
       "PCE                                                             0\n",
       "CO2                                                           1.1\n",
       "CustomerChg                                                     8\n",
       "DemandCharge                                                  NaN\n",
       "NameShort                                                  Chugac\n",
       "Blocks          [(nan, 0.17713), (nan, nan), (nan, nan), (nan,...\n",
       "Name: 1, dtype: object"
      ]
     },
     "execution_count": 12,
     "metadata": {},
     "output_type": "execute_result"
    }
   ],
   "source": [
    "library.util_from_id(1)"
   ]
  },
  {
   "cell_type": "code",
   "execution_count": 13,
   "metadata": {},
   "outputs": [
    {
     "name": "stdout",
     "output_type": "stream",
     "text": [
      "[(nan, 0.17713), (nan, nan), (nan, nan), (nan, nan), (nan, nan)]\n",
      "[(100.0, 0.8109000000000001), (400.0, 0.7409000000000001), (500.0, 0.6609), (1000.0, 0.5909), (nan, 0.5609000000000001)]\n"
     ]
    }
   ],
   "source": [
    "print(library.util_from_id(1).Blocks)\n",
    "print(library.util_from_id(383).Blocks)"
   ]
  },
  {
   "cell_type": "code",
   "execution_count": 6,
   "metadata": {},
   "outputs": [
    {
     "data": {
      "text/plain": [
       "[('Natural Gas', 1),\n",
       " ('Propane', 2),\n",
       " ('#1 Oil', 3),\n",
       " ('#2 Oil', 4),\n",
       " ('Birch Wood', 5),\n",
       " ('Spruce Wood', 6),\n",
       " ('Coal', 7),\n",
       " ('District Heat, Steam', 8),\n",
       " ('District Heat, Hot Water', 9)]"
      ]
     },
     "execution_count": 6,
     "metadata": {},
     "output_type": "execute_result"
    }
   ],
   "source": [
    "library.fuels()"
   ]
  },
  {
   "cell_type": "code",
   "execution_count": 17,
   "metadata": {},
   "outputs": [
    {
     "data": {
      "text/plain": [
       "desc         Spruce Wood\n",
       "unit                cord\n",
       "btus            1.81e+07\n",
       "co2                    0\n",
       "effic               0.63\n",
       "price_col    SprucePrice\n",
       "Name: 6, dtype: object"
      ]
     },
     "execution_count": 17,
     "metadata": {},
     "output_type": "execute_result"
    }
   ],
   "source": [
    "library.fuel_from_id(6)"
   ]
  },
  {
   "cell_type": "code",
   "execution_count": 8,
   "metadata": {},
   "outputs": [
    {
     "data": {
      "text/plain": [
       "345.0"
      ]
     },
     "execution_count": 8,
     "metadata": {},
     "output_type": "execute_result"
    }
   ],
   "source": [
    "library.fuel_price(6, 1)"
   ]
  },
  {
   "cell_type": "code",
   "execution_count": 14,
   "metadata": {},
   "outputs": [
    {
     "data": {
      "text/html": [
       "<div>\n",
       "<style scoped>\n",
       "    .dataframe tbody tr th:only-of-type {\n",
       "        vertical-align: middle;\n",
       "    }\n",
       "\n",
       "    .dataframe tbody tr th {\n",
       "        vertical-align: top;\n",
       "    }\n",
       "\n",
       "    .dataframe thead th {\n",
       "        text-align: right;\n",
       "    }\n",
       "</style>\n",
       "<table border=\"1\" class=\"dataframe\">\n",
       "  <thead>\n",
       "    <tr style=\"text-align: right;\">\n",
       "      <th></th>\n",
       "      <th>db_temp</th>\n",
       "      <th>rh</th>\n",
       "      <th>wind_spd</th>\n",
       "      <th>month</th>\n",
       "    </tr>\n",
       "  </thead>\n",
       "  <tbody>\n",
       "    <tr>\n",
       "      <th>2018-01-01 00:30:00</th>\n",
       "      <td>35.06</td>\n",
       "      <td>92</td>\n",
       "      <td>36.909510</td>\n",
       "      <td>1</td>\n",
       "    </tr>\n",
       "    <tr>\n",
       "      <th>2018-01-01 01:30:00</th>\n",
       "      <td>35.06</td>\n",
       "      <td>92</td>\n",
       "      <td>38.027980</td>\n",
       "      <td>1</td>\n",
       "    </tr>\n",
       "    <tr>\n",
       "      <th>2018-01-01 02:30:00</th>\n",
       "      <td>35.06</td>\n",
       "      <td>92</td>\n",
       "      <td>36.909510</td>\n",
       "      <td>1</td>\n",
       "    </tr>\n",
       "    <tr>\n",
       "      <th>2018-01-01 03:30:00</th>\n",
       "      <td>35.96</td>\n",
       "      <td>85</td>\n",
       "      <td>39.146450</td>\n",
       "      <td>1</td>\n",
       "    </tr>\n",
       "    <tr>\n",
       "      <th>2018-01-01 04:30:00</th>\n",
       "      <td>35.96</td>\n",
       "      <td>85</td>\n",
       "      <td>35.567346</td>\n",
       "      <td>1</td>\n",
       "    </tr>\n",
       "  </tbody>\n",
       "</table>\n",
       "</div>"
      ],
      "text/plain": [
       "                     db_temp  rh   wind_spd  month\n",
       "2018-01-01 00:30:00    35.06  92  36.909510      1\n",
       "2018-01-01 01:30:00    35.06  92  38.027980      1\n",
       "2018-01-01 02:30:00    35.06  92  36.909510      1\n",
       "2018-01-01 03:30:00    35.96  85  39.146450      1\n",
       "2018-01-01 04:30:00    35.96  85  35.567346      1"
      ]
     },
     "execution_count": 14,
     "metadata": {},
     "output_type": "execute_result"
    }
   ],
   "source": [
    "library.tmy_from_id(702190).head()"
   ]
  },
  {
   "cell_type": "code",
   "execution_count": 68,
   "metadata": {},
   "outputs": [
    {
     "data": {
      "text/plain": [
       "<module 'elec_cost' from 'C:\\\\Users\\\\Alan\\\\Documents\\\\GitHub\\\\heat-pump-calc\\\\elec_cost.py'>"
      ]
     },
     "execution_count": 68,
     "metadata": {},
     "output_type": "execute_result"
    }
   ],
   "source": [
    "import elec_cost\n",
    "reload(elec_cost)"
   ]
  },
  {
   "cell_type": "code",
   "execution_count": 62,
   "metadata": {},
   "outputs": [
    {
     "name": "stdout",
     "output_type": "stream",
     "text": [
      "ID                                                            383\n",
      "Name                  Gwitchyaa Zhee Utility Co - Commercial - Sm\n",
      "Active                                                          1\n",
      "Type                                                            1\n",
      "IsCommercial                                                    1\n",
      "ChargesRCC                                                      1\n",
      "PCE                                                           NaN\n",
      "CO2                                                             2\n",
      "CustomerChg                                                     0\n",
      "DemandCharge                                                  NaN\n",
      "NameShort                                                  Gwitch\n",
      "Blocks          [(100.0, 0.8109000000000001), (400.0, 0.740900...\n",
      "Name: 383, dtype: object\n",
      "[(100.0, 0.8109000000000001), (400.0, 0.7409000000000001), (500.0, 0.6609), (1000.0, 0.5909), (nan, 0.5609000000000001)]\n",
      "[(100.0, 0.8109000000000001), (300.0, 0.7409000000000001), (100.0, 0.6609), (500.0, 0.5909), (inf, 0.5609000000000001)]\n",
      "[(100.0, 0.7109000000000001), (300.0, 0.6409000000000001), (100.0, 0.5609000000000001), (500.0, 0.5909), (inf, 0.5609000000000001)]\n",
      "[(100.0, 1.4218000000000002), (300.0, 1.2818000000000003), (100.0, 1.1218000000000001), (500.0, 1.1818), (inf, 1.1218000000000001)]\n",
      "[(100.0, 0.7109000000000001), (100.0, 0.6409000000000001), (200.0, 0.7409000000000001), (100.0, 0.6609), (500.0, 0.5909), (inf, 0.5609000000000001)]\n",
      "[(100.0, 0.7109000000000001), (300.0, 0.6409000000000001), (100.0, 0.5609000000000001), (500.0, 0.4909), (inf, 0.4609000000000001)]\n",
      "[(100.0, 0.8109000000000001), (300.0, 0.7409000000000001), (100.0, 0.6609), (500.0, 0.5909), (inf, 0.5609000000000001)]\n",
      "[(200.0, 0.132), (200, 0.24200000000000002), (inf, 0.198)]\n"
     ]
    }
   ],
   "source": [
    "util_id = 383\n",
    "#util_id = 1\n",
    "ec = elec_cost.ElecCostCalc(util_id)\n",
    "print(ec.utility)\n",
    "print(ec.utility.Blocks)\n",
    "print(ec.final_blocks())\n",
    "ec = elec_cost.ElecCostCalc(util_id, pce=0.1)\n",
    "print(ec.final_blocks())\n",
    "ec = elec_cost.ElecCostCalc(util_id, pce=0.1, sales_tax=1.)\n",
    "print(ec.final_blocks())\n",
    "ec = elec_cost.ElecCostCalc(util_id, pce=0.1, pce_limit=200)\n",
    "print(ec.final_blocks())\n",
    "ec = elec_cost.ElecCostCalc(util_id, pce=0.1, pce_limit=math.nan)\n",
    "print(ec.final_blocks())\n",
    "ec = elec_cost.ElecCostCalc(util_id, pce=0.1, pce_limit=0)\n",
    "print(ec.final_blocks())\n",
    "ec = elec_cost.ElecCostCalc(util_id, blocks=[(400, 0.22), (math.nan, 0.18)], pce=0.1, pce_limit=200, sales_tax=0.1)\n",
    "print(ec.final_blocks())"
   ]
  },
  {
   "cell_type": "code",
   "execution_count": 54,
   "metadata": {},
   "outputs": [
    {
     "name": "stdout",
     "output_type": "stream",
     "text": [
      "23.29 44.15\n",
      "25.619 48.565000000000005\n",
      "11.0 5.5\n"
     ]
    }
   ],
   "source": [
    "util_id = 480  # ML&P Large Commercial\n",
    "ec = elec_cost.ElecCostCalc(util_id)\n",
    "print(ec.demand_charge, ec.customer_charge)\n",
    "ec = elec_cost.ElecCostCalc(util_id, sales_tax=0.1)\n",
    "print(ec.demand_charge, ec.customer_charge)\n",
    "ec = elec_cost.ElecCostCalc(util_id, sales_tax=0.1, demand_charge=10., customer_charge=5.)\n",
    "print(ec.demand_charge, ec.customer_charge)"
   ]
  },
  {
   "cell_type": "code",
   "execution_count": 53,
   "metadata": {},
   "outputs": [
    {
     "data": {
      "text/plain": [
       "[('Anchorage ML&P - Residential', 2),\n",
       " ('Anchorage ML&P - Commercial - Sm', 293),\n",
       " ('Anchorage ML&P - Commercial - Lg', 480),\n",
       " ('Chugach Electric- Residential', 1),\n",
       " ('Chugach Electric - Commercial - Sm', 361),\n",
       " ('Chugach Electric - Commercial - Lg', 548)]"
      ]
     },
     "execution_count": 53,
     "metadata": {},
     "output_type": "execute_result"
    }
   ],
   "source": [
    "library.city_from_id(1).ElecUtilities"
   ]
  },
  {
   "cell_type": "code",
   "execution_count": 78,
   "metadata": {},
   "outputs": [
    {
     "data": {
      "text/plain": [
       "129.096"
      ]
     },
     "execution_count": 78,
     "metadata": {},
     "output_type": "execute_result"
    }
   ],
   "source": [
    "ec = elec_cost.ElecCostCalc(480, sales_tax=0.1, demand_charge=13.29, customer_charge=34.15)\n",
    "ec.monthly_cost(700, 2)"
   ]
  },
  {
   "cell_type": "code",
   "execution_count": 74,
   "metadata": {},
   "outputs": [
    {
     "name": "stdout",
     "output_type": "stream",
     "text": [
      "ID                                                            480\n",
      "Name                             Anchorage ML&P - Commercial - Lg\n",
      "Active                                                          1\n",
      "Type                                                            1\n",
      "IsCommercial                                                    1\n",
      "ChargesRCC                                                      1\n",
      "PCE                                                           NaN\n",
      "CO2                                                           1.1\n",
      "CustomerChg                                                 44.15\n",
      "DemandCharge                                                23.29\n",
      "NameShort                                                  Anchor\n",
      "Blocks          [(nan, 0.0809), (nan, nan), (nan, nan), (nan, ...\n",
      "Name: 480, dtype: object\n",
      "[(nan, 0.0809), (nan, nan), (nan, nan), (nan, nan), (nan, nan)]\n"
     ]
    }
   ],
   "source": [
    "print(ec.utility)\n",
    "print(ec.utility.Blocks)"
   ]
  }
 ],
 "metadata": {
  "kernelspec": {
   "display_name": "Python 3",
   "language": "python",
   "name": "python3"
  },
  "language_info": {
   "codemirror_mode": {
    "name": "ipython",
    "version": 3
   },
   "file_extension": ".py",
   "mimetype": "text/x-python",
   "name": "python",
   "nbconvert_exporter": "python",
   "pygments_lexer": "ipython3",
   "version": "3.6.4"
  }
 },
 "nbformat": 4,
 "nbformat_minor": 2
}
