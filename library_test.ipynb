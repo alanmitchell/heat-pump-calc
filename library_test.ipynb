{
 "cells": [
  {
   "cell_type": "markdown",
   "metadata": {},
   "source": [
    "# Tests library module"
   ]
  },
  {
   "cell_type": "code",
   "execution_count": 1,
   "metadata": {},
   "outputs": [
    {
     "name": "stderr",
     "output_type": "stream",
     "text": [
      "C:\\Users\\Alan\\Anaconda2\\envs\\py36\\lib\\site-packages\\fuzzywuzzy\\fuzz.py:35: UserWarning: Using slow pure-python SequenceMatcher. Install python-Levenshtein to remove this warning\n",
      "  warnings.warn('Using slow pure-python SequenceMatcher. Install python-Levenshtein to remove this warning')\n"
     ]
    }
   ],
   "source": [
    "import math\n",
    "import pandas as pd\n",
    "import numpy as np\n",
    "from importlib import reload\n",
    "from fuzzywuzzy import process, fuzz\n",
    "\n",
    "# import matplotlib pyplot commands\n",
    "from matplotlib.pyplot import *\n",
    " \n",
    "# Show Plots in the Notebook\n",
    "%matplotlib inline\n",
    " \n",
    "rcParams['figure.figsize']= (10, 8)   # set Chart Size\n",
    "rcParams['font.size'] = 14            # set Font size in Chart\n",
    "\n",
    "# 'style' the plot like fivethirtyeight.com website\n",
    "style.use('bmh')\n"
   ]
  },
  {
   "cell_type": "code",
   "execution_count": 3,
   "metadata": {},
   "outputs": [],
   "source": [
    "import heatpump.library as library"
   ]
  },
  {
   "cell_type": "code",
   "execution_count": 117,
   "metadata": {},
   "outputs": [
    {
     "data": {
      "text/plain": [
       "<module 'library' from 'C:\\\\Users\\\\Alan\\\\Documents\\\\GitHub\\\\heat-pump-calc\\\\library.py'>"
      ]
     },
     "execution_count": 117,
     "metadata": {},
     "output_type": "execute_result"
    }
   ],
   "source": [
    "reload(library)"
   ]
  },
  {
   "cell_type": "code",
   "execution_count": 4,
   "metadata": {},
   "outputs": [
    {
     "data": {
      "text/plain": [
       "[('Adak', 2), ('Akhiok', 283), ('Akiachak', 84), ('Akiak', 85), ('Akutan', 3)]"
      ]
     },
     "execution_count": 4,
     "metadata": {},
     "output_type": "execute_result"
    }
   ],
   "source": [
    "library.cities()[:5]"
   ]
  },
  {
   "cell_type": "code",
   "execution_count": 5,
   "metadata": {},
   "outputs": [
    {
     "data": {
      "text/plain": [
       "Name                                                         Anchorage\n",
       "Latitude                                                         61.15\n",
       "Longitude                                                      -149.86\n",
       "ERHRegionID                                                          2\n",
       "WAPRegionID                                                          2\n",
       "FuelRefer                                                            0\n",
       "FuelCityID                                                         NaN\n",
       "Oil1Price                                                         3.07\n",
       "Oil2Price                                                          NaN\n",
       "PropanePrice                                                       4.5\n",
       "BirchPrice                                                         325\n",
       "SprucePrice                                                        345\n",
       "CoalPrice                                                          175\n",
       "SteamPrice                                                         NaN\n",
       "HotWaterPrice                                                      NaN\n",
       "MunicipalSalesTax                                                  NaN\n",
       "BoroughSalesTax                                                    NaN\n",
       "TMYid                                                           702730\n",
       "TMYname                                          ANCHORAGE INTL AP, AK\n",
       "ElecUtilities        [(Anchorage ML&P - Residential, 2), (Anchorage...\n",
       "GasPrice                                                          0.97\n",
       "Name: 1, dtype: object"
      ]
     },
     "execution_count": 5,
     "metadata": {},
     "output_type": "execute_result"
    }
   ],
   "source": [
    "library.city_from_id(1)"
   ]
  },
  {
   "cell_type": "code",
   "execution_count": 6,
   "metadata": {},
   "outputs": [
    {
     "data": {
      "text/plain": [
       "ID                                                                      1\n",
       "LibVersion                                              2/27/2018 0:00:00\n",
       "DiscountRate                                                         0.03\n",
       "RegSurcharge                                                       0.0032\n",
       "RegSurchargeElectric                                               0.0009\n",
       "PCEkWhLimit                                                           500\n",
       "PCEFundingPct                                                           1\n",
       "MiscNotes               Inflation factors and discount rate from 2011 ...\n",
       "Name: 0, dtype: object"
      ]
     },
     "execution_count": 6,
     "metadata": {},
     "output_type": "execute_result"
    }
   ],
   "source": [
    "library.miscellaneous_info()"
   ]
  },
  {
   "cell_type": "code",
   "execution_count": 7,
   "metadata": {},
   "outputs": [
    {
     "data": {
      "text/plain": [
       "ID                                                              1\n",
       "Name                                Chugach Electric- Residential\n",
       "Active                                                          1\n",
       "Type                                                            1\n",
       "IsCommercial                                                    0\n",
       "ChargesRCC                                                      1\n",
       "PCE                                                             0\n",
       "CO2                                                           1.1\n",
       "CustomerChg                                                     8\n",
       "DemandCharge                                                  NaN\n",
       "NameShort                                                  Chugac\n",
       "Blocks          [(nan, 0.17713), (nan, nan), (nan, nan), (nan,...\n",
       "Name: 1, dtype: object"
      ]
     },
     "execution_count": 7,
     "metadata": {},
     "output_type": "execute_result"
    }
   ],
   "source": [
    "library.util_from_id(1)"
   ]
  },
  {
   "cell_type": "code",
   "execution_count": 8,
   "metadata": {},
   "outputs": [
    {
     "name": "stdout",
     "output_type": "stream",
     "text": [
      "[(nan, 0.17713), (nan, nan), (nan, nan), (nan, nan), (nan, nan)]\n",
      "[(100.0, 0.8109000000000001), (400.0, 0.7409000000000001), (500.0, 0.6609), (1000.0, 0.5909), (nan, 0.5609000000000001)]\n"
     ]
    }
   ],
   "source": [
    "print(library.util_from_id(1).Blocks)\n",
    "print(library.util_from_id(383).Blocks)"
   ]
  },
  {
   "cell_type": "code",
   "execution_count": 9,
   "metadata": {},
   "outputs": [
    {
     "data": {
      "text/plain": [
       "[('Natural Gas', 1),\n",
       " ('Propane', 2),\n",
       " ('#1 Oil', 3),\n",
       " ('#2 Oil', 4),\n",
       " ('Birch Wood', 5),\n",
       " ('Spruce Wood', 6),\n",
       " ('Coal', 7),\n",
       " ('District Heat, Steam', 8),\n",
       " ('District Heat, Hot Water', 9)]"
      ]
     },
     "execution_count": 9,
     "metadata": {},
     "output_type": "execute_result"
    }
   ],
   "source": [
    "library.fuels()"
   ]
  },
  {
   "cell_type": "code",
   "execution_count": 10,
   "metadata": {},
   "outputs": [
    {
     "data": {
      "text/plain": [
       "desc         Spruce Wood\n",
       "unit                cord\n",
       "btus            1.81e+07\n",
       "co2                    0\n",
       "effic               0.63\n",
       "price_col    SprucePrice\n",
       "Name: 6, dtype: object"
      ]
     },
     "execution_count": 10,
     "metadata": {},
     "output_type": "execute_result"
    }
   ],
   "source": [
    "library.fuel_from_id(6)"
   ]
  },
  {
   "cell_type": "code",
   "execution_count": 11,
   "metadata": {},
   "outputs": [
    {
     "data": {
      "text/plain": [
       "345.0"
      ]
     },
     "execution_count": 11,
     "metadata": {},
     "output_type": "execute_result"
    }
   ],
   "source": [
    "library.fuel_price(6, 1)"
   ]
  },
  {
   "cell_type": "code",
   "execution_count": 12,
   "metadata": {},
   "outputs": [
    {
     "data": {
      "text/html": [
       "<div>\n",
       "<style scoped>\n",
       "    .dataframe tbody tr th:only-of-type {\n",
       "        vertical-align: middle;\n",
       "    }\n",
       "\n",
       "    .dataframe tbody tr th {\n",
       "        vertical-align: top;\n",
       "    }\n",
       "\n",
       "    .dataframe thead th {\n",
       "        text-align: right;\n",
       "    }\n",
       "</style>\n",
       "<table border=\"1\" class=\"dataframe\">\n",
       "  <thead>\n",
       "    <tr style=\"text-align: right;\">\n",
       "      <th></th>\n",
       "      <th>db_temp</th>\n",
       "      <th>rh</th>\n",
       "      <th>wind_spd</th>\n",
       "      <th>month</th>\n",
       "    </tr>\n",
       "  </thead>\n",
       "  <tbody>\n",
       "    <tr>\n",
       "      <th>2018-01-01 00:30:00</th>\n",
       "      <td>35.06</td>\n",
       "      <td>92</td>\n",
       "      <td>36.909510</td>\n",
       "      <td>1</td>\n",
       "    </tr>\n",
       "    <tr>\n",
       "      <th>2018-01-01 01:30:00</th>\n",
       "      <td>35.06</td>\n",
       "      <td>92</td>\n",
       "      <td>38.027980</td>\n",
       "      <td>1</td>\n",
       "    </tr>\n",
       "    <tr>\n",
       "      <th>2018-01-01 02:30:00</th>\n",
       "      <td>35.06</td>\n",
       "      <td>92</td>\n",
       "      <td>36.909510</td>\n",
       "      <td>1</td>\n",
       "    </tr>\n",
       "    <tr>\n",
       "      <th>2018-01-01 03:30:00</th>\n",
       "      <td>35.96</td>\n",
       "      <td>85</td>\n",
       "      <td>39.146450</td>\n",
       "      <td>1</td>\n",
       "    </tr>\n",
       "    <tr>\n",
       "      <th>2018-01-01 04:30:00</th>\n",
       "      <td>35.96</td>\n",
       "      <td>85</td>\n",
       "      <td>35.567346</td>\n",
       "      <td>1</td>\n",
       "    </tr>\n",
       "  </tbody>\n",
       "</table>\n",
       "</div>"
      ],
      "text/plain": [
       "                     db_temp  rh   wind_spd  month\n",
       "2018-01-01 00:30:00    35.06  92  36.909510      1\n",
       "2018-01-01 01:30:00    35.06  92  38.027980      1\n",
       "2018-01-01 02:30:00    35.06  92  36.909510      1\n",
       "2018-01-01 03:30:00    35.96  85  39.146450      1\n",
       "2018-01-01 04:30:00    35.96  85  35.567346      1"
      ]
     },
     "execution_count": 12,
     "metadata": {},
     "output_type": "execute_result"
    }
   ],
   "source": [
    "library.tmy_from_id(702190).head()"
   ]
  },
  {
   "cell_type": "code",
   "execution_count": 14,
   "metadata": {},
   "outputs": [
    {
     "data": {
      "text/plain": [
       "<module 'heatpump.elec_cost' from 'C:\\\\Users\\\\Alan\\\\Documents\\\\GitHub\\\\heat-pump-calc\\\\heatpump\\\\elec_cost.py'>"
      ]
     },
     "execution_count": 14,
     "metadata": {},
     "output_type": "execute_result"
    }
   ],
   "source": [
    "import heatpump.elec_cost as elec_cost\n",
    "reload(elec_cost)"
   ]
  },
  {
   "cell_type": "code",
   "execution_count": 15,
   "metadata": {},
   "outputs": [
    {
     "name": "stdout",
     "output_type": "stream",
     "text": [
      "ID                                                            383\n",
      "Name                  Gwitchyaa Zhee Utility Co - Commercial - Sm\n",
      "Active                                                          1\n",
      "Type                                                            1\n",
      "IsCommercial                                                    1\n",
      "ChargesRCC                                                      1\n",
      "PCE                                                          0.37\n",
      "CO2                                                             2\n",
      "CustomerChg                                                     0\n",
      "DemandCharge                                                  NaN\n",
      "NameShort                                                  Gwitch\n",
      "Blocks          [(100.0, 0.8109000000000001), (400.0, 0.740900...\n",
      "Name: 383, dtype: object\n",
      "[(100.0, 0.8109000000000001), (400.0, 0.7409000000000001), (500.0, 0.6609), (1000.0, 0.5909), (nan, 0.5609000000000001)]\n",
      "[(100.0, 0.44090000000000007), (300.0, 0.3709000000000001), (100.0, 0.29090000000000005), (500.0, 0.5909), (inf, 0.5609000000000001)]\n",
      "[(100.0, 0.7109000000000001), (300.0, 0.6409000000000001), (100.0, 0.5609000000000001), (500.0, 0.5909), (inf, 0.5609000000000001)]\n",
      "[(100.0, 1.4218000000000002), (300.0, 1.2818000000000003), (100.0, 1.1218000000000001), (500.0, 1.1818), (inf, 1.1218000000000001)]\n",
      "[(100.0, 0.7109000000000001), (100.0, 0.6409000000000001), (200.0, 0.7409000000000001), (100.0, 0.6609), (500.0, 0.5909), (inf, 0.5609000000000001)]\n",
      "[(100.0, 0.7109000000000001), (300.0, 0.6409000000000001), (100.0, 0.5609000000000001), (500.0, 0.4909), (inf, 0.4609000000000001)]\n",
      "[(100.0, 0.8109000000000001), (300.0, 0.7409000000000001), (100.0, 0.6609), (500.0, 0.5909), (inf, 0.5609000000000001)]\n",
      "[(200.0, 0.132), (200, 0.24200000000000002), (inf, 0.198)]\n"
     ]
    }
   ],
   "source": [
    "util_id = 383\n",
    "#util_id = 1\n",
    "ec = elec_cost.ElecCostCalc(util_id)\n",
    "print(ec.utility)\n",
    "print(ec.utility.Blocks)\n",
    "print(ec.final_blocks())\n",
    "ec = elec_cost.ElecCostCalc(util_id, pce=0.1)\n",
    "print(ec.final_blocks())\n",
    "ec = elec_cost.ElecCostCalc(util_id, pce=0.1, sales_tax=1.)\n",
    "print(ec.final_blocks())\n",
    "ec = elec_cost.ElecCostCalc(util_id, pce=0.1, pce_limit=200)\n",
    "print(ec.final_blocks())\n",
    "ec = elec_cost.ElecCostCalc(util_id, pce=0.1, pce_limit=math.nan)\n",
    "print(ec.final_blocks())\n",
    "ec = elec_cost.ElecCostCalc(util_id, pce=0.1, pce_limit=0)\n",
    "print(ec.final_blocks())\n",
    "ec = elec_cost.ElecCostCalc(util_id, blocks=[(400, 0.22), (math.nan, 0.18)], pce=0.1, pce_limit=200, sales_tax=0.1)\n",
    "print(ec.final_blocks())"
   ]
  },
  {
   "cell_type": "code",
   "execution_count": 16,
   "metadata": {},
   "outputs": [
    {
     "name": "stdout",
     "output_type": "stream",
     "text": [
      "23.29 44.15\n",
      "25.619 48.565000000000005\n",
      "11.0 5.5\n"
     ]
    }
   ],
   "source": [
    "util_id = 480  # ML&P Large Commercial\n",
    "ec = elec_cost.ElecCostCalc(util_id)\n",
    "print(ec.demand_charge, ec.customer_charge)\n",
    "ec = elec_cost.ElecCostCalc(util_id, sales_tax=0.1)\n",
    "print(ec.demand_charge, ec.customer_charge)\n",
    "ec = elec_cost.ElecCostCalc(util_id, sales_tax=0.1, demand_charge=10., customer_charge=5.)\n",
    "print(ec.demand_charge, ec.customer_charge)"
   ]
  },
  {
   "cell_type": "code",
   "execution_count": 17,
   "metadata": {},
   "outputs": [
    {
     "data": {
      "text/plain": [
       "[('Anchorage ML&P - Residential', 2),\n",
       " ('Anchorage ML&P - Commercial - Sm', 293),\n",
       " ('Anchorage ML&P - Commercial - Lg', 480),\n",
       " ('Chugach Electric- Residential', 1),\n",
       " ('Chugach Electric - Commercial - Sm', 361),\n",
       " ('Chugach Electric - Commercial - Lg', 548)]"
      ]
     },
     "execution_count": 17,
     "metadata": {},
     "output_type": "execute_result"
    }
   ],
   "source": [
    "library.city_from_id(1).ElecUtilities"
   ]
  },
  {
   "cell_type": "code",
   "execution_count": 18,
   "metadata": {},
   "outputs": [
    {
     "data": {
      "text/plain": [
       "129.096"
      ]
     },
     "execution_count": 18,
     "metadata": {},
     "output_type": "execute_result"
    }
   ],
   "source": [
    "ec = elec_cost.ElecCostCalc(480, sales_tax=0.1, demand_charge=13.29, customer_charge=34.15)\n",
    "ec.monthly_cost(700, 2)"
   ]
  },
  {
   "cell_type": "code",
   "execution_count": 19,
   "metadata": {},
   "outputs": [
    {
     "name": "stdout",
     "output_type": "stream",
     "text": [
      "ID                                                            480\n",
      "Name                             Anchorage ML&P - Commercial - Lg\n",
      "Active                                                          1\n",
      "Type                                                            1\n",
      "IsCommercial                                                    1\n",
      "ChargesRCC                                                      1\n",
      "PCE                                                           NaN\n",
      "CO2                                                           1.1\n",
      "CustomerChg                                                 44.15\n",
      "DemandCharge                                                23.29\n",
      "NameShort                                                  Anchor\n",
      "Blocks          [(nan, 0.0809), (nan, nan), (nan, nan), (nan, ...\n",
      "Name: 480, dtype: object\n",
      "[(nan, 0.0809), (nan, nan), (nan, nan), (nan, nan), (nan, nan)]\n"
     ]
    }
   ],
   "source": [
    "print(ec.utility)\n",
    "print(ec.utility.Blocks)"
   ]
  },
  {
   "cell_type": "code",
   "execution_count": 18,
   "metadata": {},
   "outputs": [
    {
     "name": "stdout",
     "output_type": "stream",
     "text": [
      "Adak - TDX Commercial: $0.94/kWh\n",
      "Healy Lake-APT - Commercial - Lg: $1.17/kWh\n",
      "Healy Lake-APT - Commercial - Sm: $0.93/kWh\n",
      "Homer Electric Assn - Industrial: $1.07/kWh\n",
      "Lime Village - Commercial - Lg: $0.96/kWh\n",
      "Lime Village - Commercial - Sm: $0.99/kWh\n",
      "Lime Village - Residential: $0.99/kWh\n",
      "Paxson Lodge, Inc - Commercial - Lg: $1.70/kWh\n",
      "Paxson Lodge, Inc - Commercial - Sm: $1.70/kWh\n",
      "Paxson Lodge, Inc - Residential: $1.70/kWh\n",
      "Self Generated Power (oil) - Residential: $1.00/kWh\n"
     ]
    },
    {
     "data": {
      "image/png": "[encoded data removed]",
      "text/plain": [
       "<matplotlib.figure.Figure at 0x18902c8d668>"
      ]
     },
     "metadata": {},
     "output_type": "display_data"
    }
   ],
   "source": [
    "rates = []\n",
    "for util_nm, util_id in library.utilities():\n",
    "    ec = elec_cost.ElecCostCalc(util_id)\n",
    "    if ec.utility.Type==2:\n",
    "        continue\n",
    "    rate = ec.monthly_cost(500., 1.7)/500.\n",
    "    rates.append(rate)\n",
    "    if rate > 0.8:\n",
    "        print('{}: ${:.2f}/kWh'.format(util_nm, rate))\n",
    "hist(rates, bins=30);"
   ]
  },
  {
   "cell_type": "code",
   "execution_count": 19,
   "metadata": {},
   "outputs": [
    {
     "data": {
      "text/html": [
       "<div>\n",
       "<style scoped>\n",
       "    .dataframe tbody tr th:only-of-type {\n",
       "        vertical-align: middle;\n",
       "    }\n",
       "\n",
       "    .dataframe tbody tr th {\n",
       "        vertical-align: top;\n",
       "    }\n",
       "\n",
       "    .dataframe thead th {\n",
       "        text-align: right;\n",
       "    }\n",
       "</style>\n",
       "<table border=\"1\" class=\"dataframe\">\n",
       "  <thead>\n",
       "    <tr style=\"text-align: right;\">\n",
       "      <th></th>\n",
       "      <th>Name</th>\n",
       "      <th>ElecUtilities</th>\n",
       "      <th>elec_count</th>\n",
       "    </tr>\n",
       "    <tr>\n",
       "      <th>ID</th>\n",
       "      <th></th>\n",
       "      <th></th>\n",
       "      <th></th>\n",
       "    </tr>\n",
       "  </thead>\n",
       "  <tbody>\n",
       "    <tr>\n",
       "      <th>1</th>\n",
       "      <td>Anchorage</td>\n",
       "      <td>[(Anchorage ML&amp;P - Residential, 2), (Anchorage...</td>\n",
       "      <td>6</td>\n",
       "    </tr>\n",
       "    <tr>\n",
       "      <th>11</th>\n",
       "      <td>Auke Bay</td>\n",
       "      <td>[(AEL&amp;P - Residential, 11), (AEL&amp;P - Residenti...</td>\n",
       "      <td>6</td>\n",
       "    </tr>\n",
       "    <tr>\n",
       "      <th>15</th>\n",
       "      <td>Delta Junction</td>\n",
       "      <td>[(Golden Valley Electric - Residential, 3), (G...</td>\n",
       "      <td>5</td>\n",
       "    </tr>\n",
       "    <tr>\n",
       "      <th>19</th>\n",
       "      <td>Cantwell</td>\n",
       "      <td>[(Golden Valley Electric - Residential, 3), (G...</td>\n",
       "      <td>5</td>\n",
       "    </tr>\n",
       "    <tr>\n",
       "      <th>32</th>\n",
       "      <td>Clear</td>\n",
       "      <td>[(Golden Valley Electric - Residential, 3), (G...</td>\n",
       "      <td>5</td>\n",
       "    </tr>\n",
       "    <tr>\n",
       "      <th>182</th>\n",
       "      <td>Healy</td>\n",
       "      <td>[(Golden Valley Electric - Residential, 3), (G...</td>\n",
       "      <td>5</td>\n",
       "    </tr>\n",
       "    <tr>\n",
       "      <th>200</th>\n",
       "      <td>Juneau, Airport</td>\n",
       "      <td>[(AEL&amp;P - Residential, 11), (AEL&amp;P - Residenti...</td>\n",
       "      <td>6</td>\n",
       "    </tr>\n",
       "    <tr>\n",
       "      <th>202</th>\n",
       "      <td>Wrangell</td>\n",
       "      <td>[(Wrangell, City of - Residential, 128), (Wran...</td>\n",
       "      <td>6</td>\n",
       "    </tr>\n",
       "    <tr>\n",
       "      <th>292</th>\n",
       "      <td>Juneau, City of</td>\n",
       "      <td>[(AEL&amp;P - Residential, 11), (AEL&amp;P - Residenti...</td>\n",
       "      <td>6</td>\n",
       "    </tr>\n",
       "    <tr>\n",
       "      <th>293</th>\n",
       "      <td>Fairbanks</td>\n",
       "      <td>[(Golden Valley Electric - Residential, 3), (G...</td>\n",
       "      <td>5</td>\n",
       "    </tr>\n",
       "    <tr>\n",
       "      <th>301</th>\n",
       "      <td>Douglas</td>\n",
       "      <td>[(AEL&amp;P - Residential, 11), (AEL&amp;P - Residenti...</td>\n",
       "      <td>6</td>\n",
       "    </tr>\n",
       "    <tr>\n",
       "      <th>302</th>\n",
       "      <td>Nenana</td>\n",
       "      <td>[(Golden Valley Electric - Residential, 3), (G...</td>\n",
       "      <td>5</td>\n",
       "    </tr>\n",
       "    <tr>\n",
       "      <th>304</th>\n",
       "      <td>North Pole</td>\n",
       "      <td>[(Golden Valley Electric - Residential, 3), (G...</td>\n",
       "      <td>5</td>\n",
       "    </tr>\n",
       "    <tr>\n",
       "      <th>305</th>\n",
       "      <td>Anderson</td>\n",
       "      <td>[(Golden Valley Electric - Residential, 3), (G...</td>\n",
       "      <td>5</td>\n",
       "    </tr>\n",
       "    <tr>\n",
       "      <th>307</th>\n",
       "      <td>Salcha</td>\n",
       "      <td>[(Golden Valley Electric - Residential, 3), (G...</td>\n",
       "      <td>5</td>\n",
       "    </tr>\n",
       "    <tr>\n",
       "      <th>308</th>\n",
       "      <td>Denali Nat'l Park</td>\n",
       "      <td>[(Golden Valley Electric - Residential, 3), (G...</td>\n",
       "      <td>5</td>\n",
       "    </tr>\n",
       "    <tr>\n",
       "      <th>309</th>\n",
       "      <td>Ester</td>\n",
       "      <td>[(Golden Valley Electric - Residential, 3), (G...</td>\n",
       "      <td>5</td>\n",
       "    </tr>\n",
       "    <tr>\n",
       "      <th>322</th>\n",
       "      <td>Faribanks - Chena Ridge</td>\n",
       "      <td>[(Golden Valley Electric - Residential, 3), (G...</td>\n",
       "      <td>5</td>\n",
       "    </tr>\n",
       "  </tbody>\n",
       "</table>\n",
       "</div>"
      ],
      "text/plain": [
       "                        Name  \\\n",
       "ID                             \n",
       "1                  Anchorage   \n",
       "11                  Auke Bay   \n",
       "15            Delta Junction   \n",
       "19                  Cantwell   \n",
       "32                     Clear   \n",
       "182                    Healy   \n",
       "200          Juneau, Airport   \n",
       "202                 Wrangell   \n",
       "292          Juneau, City of   \n",
       "293                Fairbanks   \n",
       "301                  Douglas   \n",
       "302                   Nenana   \n",
       "304               North Pole   \n",
       "305                 Anderson   \n",
       "307                   Salcha   \n",
       "308        Denali Nat'l Park   \n",
       "309                    Ester   \n",
       "322  Faribanks - Chena Ridge   \n",
       "\n",
       "                                         ElecUtilities  elec_count  \n",
       "ID                                                                  \n",
       "1    [(Anchorage ML&P - Residential, 2), (Anchorage...           6  \n",
       "11   [(AEL&P - Residential, 11), (AEL&P - Residenti...           6  \n",
       "15   [(Golden Valley Electric - Residential, 3), (G...           5  \n",
       "19   [(Golden Valley Electric - Residential, 3), (G...           5  \n",
       "32   [(Golden Valley Electric - Residential, 3), (G...           5  \n",
       "182  [(Golden Valley Electric - Residential, 3), (G...           5  \n",
       "200  [(AEL&P - Residential, 11), (AEL&P - Residenti...           6  \n",
       "202  [(Wrangell, City of - Residential, 128), (Wran...           6  \n",
       "292  [(AEL&P - Residential, 11), (AEL&P - Residenti...           6  \n",
       "293  [(Golden Valley Electric - Residential, 3), (G...           5  \n",
       "301  [(AEL&P - Residential, 11), (AEL&P - Residenti...           6  \n",
       "302  [(Golden Valley Electric - Residential, 3), (G...           5  \n",
       "304  [(Golden Valley Electric - Residential, 3), (G...           5  \n",
       "305  [(Golden Valley Electric - Residential, 3), (G...           5  \n",
       "307  [(Golden Valley Electric - Residential, 3), (G...           5  \n",
       "308  [(Golden Valley Electric - Residential, 3), (G...           5  \n",
       "309  [(Golden Valley Electric - Residential, 3), (G...           5  \n",
       "322  [(Golden Valley Electric - Residential, 3), (G...           5  "
      ]
     },
     "execution_count": 19,
     "metadata": {},
     "output_type": "execute_result"
    }
   ],
   "source": [
    "dfc = library.df_city.copy()\n",
    "dfc['elec_count'] = [len(ut) for ut in dfc.ElecUtilities]\n",
    "dfc.query('elec_count > 3')[['Name', 'ElecUtilities', 'elec_count']]"
   ]
  },
  {
   "cell_type": "code",
   "execution_count": 20,
   "metadata": {},
   "outputs": [
    {
     "data": {
      "text/plain": [
       "[('AEL&P - Residential', 11),\n",
       " ('AEL&P - Residential Demand', 659),\n",
       " ('AEL&P - Residential Heat Pump', 663),\n",
       " ('AEL&P - Sm Commercial', 289),\n",
       " ('AEL&P - Lg Commercial', 476),\n",
       " ('AEL&P -  Sm Commercial Demand', 660)]"
      ]
     },
     "execution_count": 20,
     "metadata": {},
     "output_type": "execute_result"
    }
   ],
   "source": [
    "dfc.loc[301].ElecUtilities"
   ]
  },
  {
   "cell_type": "code",
   "execution_count": 21,
   "metadata": {},
   "outputs": [
    {
     "name": "stdout",
     "output_type": "stream",
     "text": [
      "Adak [0.47 0.47] 0.47 [677, 678]\n",
      "Akutan [0.77 0.77 0.77] 0.77 [9, 288, 475]\n",
      "Allakaket [0.5 0.5 0.5] 0.5 [249, 291, 478]\n",
      "Angoon [0.28 0.28 0.28] 0.28 [283, 393, 580]\n",
      "Aniak [0.3 0.3 0.3] 0.3 [17, 295, 482]\n",
      "Arctic Village [0.78 0.78 0.78] 0.78 [18, 296, 483]\n",
      "Atka [0.23 0.23 0.23] 0.23 [16, 294, 481]\n",
      "Bethel [0.11 0.11 0.11] 0.11 [23, 350, 537]\n",
      "Bettles [0.36 0.36 0.36] 0.36 [250, 351, 538]\n",
      "Central [0.31 0.31 0.31] 0.31 [33, 354, 541]\n",
      "Chalkyitsik [0.33 0.33 0.33] 0.33 [277, 355, 542]\n",
      "Chignik [0.24 0.24 0.24] 0.24 [31, 358, 545]\n",
      "Chitina [0.33 0.33 0.33] 0.33 [32, 360, 547]\n",
      "Circle [0.31 0.31 0.31] 0.31 [33, 354, 541]\n",
      "Coffman Cove [0.03 0.03 0.03] 0.03 [252, 363, 550]\n",
      "Cold Bay [0.45 0.45 0.45] 0.45 [47, 378, 565]\n",
      "Cordova [0.08 0.08 0.08] 0.08 [37, 366, 553]\n",
      "Atqasuk - Com [0.08 0.08 0.08] 0.08 [88, 427, 614]\n",
      "Kaktovik - Res [0.08 0.08 0.08] 0.08 [88, 427, 614]\n",
      "Nuiqsut [0.08  nan  nan] 0.08 [88, 673, 674]\n",
      "Point Hope Res [0.08 0.08 0.08] 0.08 [88, 427, 614]\n",
      "Point Lay [0.08 0.08 0.08] 0.08 [88, 427, 614]\n",
      "Wainwright Res [0.08 0.08 0.08] 0.08 [88, 427, 614]\n",
      "Ambler [0.29 0.29 0.29] 0.29 [202, 299, 486]\n",
      "Buckland [0.13 0.13 0.13] 0.13 [27, 353, 540]\n",
      "Deering [0.26 0.26 0.26] 0.26 [58, 394, 581]\n",
      "Kiana [0.31 0.31 0.31] 0.31 [216, 314, 501]\n",
      "Kivalina [0.31 0.31 0.31] 0.31 [217, 315, 502]\n",
      "Kobuk [0.32 0.32 0.32] 0.32 [242, 338, 525]\n",
      "Kotzebue [0.18 0.17 0.18] 0.18 [69, 405, 592]\n",
      "Noatak [0.52 0.52 0.52] 0.52 [226, 324, 511]\n",
      "Noorvik [0.27 0.52 0.52] 0.52 [227, 324, 512]\n",
      "Selawik [0.28 0.28 0.28] 0.28 [238, 334, 521]\n",
      "Shungnak [0.32 0.32 0.32] 0.32 [242, 338, 525]\n",
      "Brevig Mission [0.25 0.25 0.25] 0.25 [204, 301, 488]\n",
      "Diomede [0.22 0.22 0.22] 0.22 [38, 368, 555]\n",
      "Elim [0.29 0.29 0.29] 0.29 [207, 304, 491]\n",
      "Gambell [0.26 0.26 0.26] 0.26 [209, 306, 493]\n",
      "Golovin [0.13 0.13 0.13] 0.13 [49, 381, 568]\n",
      "Koyuk [0.27 0.27 0.27] 0.27 [218, 316, 503]\n",
      "Nome [0.08 0.08 0.08] 0.08 [87, 426, 613]\n",
      "Saint Michael [0.26 0.26 0.26] 0.26 [235, 340, 527]\n",
      "Savoonga [0.26 0.26 0.26] 0.26 [236, 332, 519]\n",
      "Shaktoolik [0.24 0.24 0.24] 0.24 [240, 336, 523]\n",
      "Shishmaref [0.29 0.29 0.29] 0.29 [241, 337, 524]\n",
      "Stebbins [0.26 0.26 0.26] 0.26 [243, 341, 528]\n",
      "Teller [0.28 0.28] 0.28 [281, 342]\n",
      "Unalakleet [0.16 0.16 0.16] 0.16 [133, 464, 651]\n",
      "Wales [0.33 0.33 0.33] 0.33 [247, 346, 533]\n",
      "White Mountain [0.25 0.25 0.25] 0.25 [127, 469, 656]\n",
      "Chevak [0.27 0.27 0.27] 0.27 [205, 302, 489]\n",
      "Emmonak [0.26 0.26 0.26] 0.26 [208, 305, 492]\n",
      "Hooper Bay [0.26 0.26 0.26] 0.26 [213, 310, 497]\n",
      "Kotlik [0.28 0.28 0.28] 0.28 [68, 404, 591]\n",
      "Marshall [0.26 0.26 0.26] 0.26 [220, 318, 505]\n",
      "Mountain Village [0.26 0.26 0.26] 0.26 [223, 321, 508]\n",
      "Pilot Station [0.3 0.3 0.3] 0.3 [231, 329, 516]\n",
      "Pitkas Point [0.28 0.28 0.28] 0.28 [234, 339, 526]\n",
      "Russian Mission [0.29 0.29 0.29] 0.29 [233, 331, 518]\n",
      "Saint Mary's [0.28 0.28 0.28] 0.28 [234, 339, 526]\n",
      "Scammon Bay [0.27 0.27 0.27] 0.27 [237, 333, 520]\n",
      "Nunum Iqua [0.19 0.19 0.19] 0.19 [105, 429, 616]\n",
      "Akiachak [0.26 0.26 0.26] 0.26 [7, 286, 473]\n",
      "Akiak [0.21 0.21 0.21] 0.21 [8, 287, 474]\n",
      "Atmautluak [0.24 0.24 0.24] 0.24 [19, 297, 484]\n",
      "Chefornak [0.23 0.23 0.23] 0.23 [83, 422, 609]\n",
      "Eek [0.28 0.28 0.28] 0.28 [206, 303, 490]\n",
      "Goodnews Bay [0.27 0.27 0.27] 0.27 [210, 307, 494]\n",
      "Kasigluk [0.26 0.26 0.26] 0.26 [229, 327, 514]\n",
      "Kipnuk [0.1 0.1 0.1] 0.1 [63, 398, 585]\n",
      "Kongiganak [0.2 0.2 0.2] 0.2 [99, 440, 627]\n",
      "Kwethluk [0.2 0.2 0.2] 0.2 [71, 407, 594]\n",
      "Kwigillingok [0.35 0.35 0.35] 0.35 [72, 408, 595]\n",
      "Mekoryok [0.28 0.28 0.28] 0.28 [221, 319, 506]\n",
      "Napakiak [0.32 0.32 0.32] 0.32 [81, 420, 607]\n",
      "Napaskiak [0.38 0.38 0.38] 0.38 [82, 421, 608]\n",
      "Newtok [0.41 0.41 0.41] 0.41 [124, 466, 653]\n",
      "Nightmute [0.25 0.25 0.25] 0.25 [225, 323, 510]\n",
      "Nunapitchuk [0.26 0.26 0.26] 0.26 [229, 327, 514]\n",
      "Oscarville [0.11 0.11 0.11] 0.11 [23, 350, 537]\n",
      "Quinhagak [0.25 0.25 0.25] 0.25 [232, 330, 517]\n",
      "Toksook Bay [0.25 0.25 0.25] 0.25 [245, 344, 531]\n",
      "Tuluksak [0.27 0.27 0.27] 0.27 [120, 460, 647]\n",
      "Tuntutuliak [0.22 0.22 0.22] 0.22 [121, 461, 648]\n",
      "Tununak [0.25 0.25 0.25] 0.25 [246, 345, 532]\n",
      "Chuathbaluk [0.71 0.71 0.71] 0.71 [79, 418, 605]\n",
      "Crooked Creek [0.71 0.71 0.71] 0.71 [79, 418, 605]\n",
      "Lime Village [0.78 0.78 0.78] 0.78 [273, 411, 598]\n",
      "Lower Kalskag [0.27 0.27 0.27] 0.27 [219, 317, 504]\n",
      "Sleetmute [0.71 0.71 0.71] 0.71 [79, 418, 605]\n",
      "Stony River [0.71 0.71 0.71] 0.71 [79, 418, 605]\n",
      "Upper Kalskag [0.27 0.27 0.27] 0.27 [219, 317, 504]\n",
      "Dillingham [0.15 0.15 0.15] 0.15 [90, 430, 617]\n",
      "Ekwok [0.32 0.32 0.32] 0.32 [372, 42, 559]\n",
      "Koliganek [0.21 0.21 0.21] 0.21 [67, 403, 590]\n",
      "Manokotak [0.24 0.24 0.24] 0.24 [76, 412, 599]\n",
      "New Stuyahok [0.32 0.32 0.32] 0.32 [224, 322, 509]\n",
      "Togiak [0.28 0.28 0.28] 0.28 [244, 343, 530]\n",
      "Twin Hills [0.28 0.28 0.28] 0.28 [279, 462, 649]\n",
      "King Salmon [0.27 0.27 0.27] 0.27 [80, 419, 606]\n",
      "Naknek [0.27 0.27 0.27] 0.27 [80, 419, 606]\n",
      "South Naknek [0.27 0.27 0.27] 0.27 [80, 419, 606]\n",
      "Chignik Lake [0.42 0.42 0.42] 0.42 [30, 357, 544]\n",
      "Egegik [0.41 0.41 0.41] 0.41 [41, 371, 558]\n",
      "Igiugig [0.64 0.64 0.64] 0.64 [57, 391, 578]\n",
      "Iliamna [0.39 0.39 0.39] 0.39 [56, 392, 579]\n",
      "Kokhanok [0.59 0.59 0.59] 0.59 [66, 402, 589]\n",
      "Levelock [0.36 0.36 0.36] 0.36 [74, 410, 597]\n",
      "Newhalen [0.39 0.39 0.39] 0.39 [56, 392, 579]\n",
      "Nondalton [0.39 0.39 0.39] 0.39 [56, 392, 579]\n",
      "Pedro Bay [0.34 0.34 0.34] 0.34 [93, 433, 620]\n",
      "Perryville [0.25 0.25 0.25] 0.25 [94, 435, 622]\n",
      "Pilot Point [0.28 0.28 0.28] 0.28 [96, 437, 624]\n",
      "Port Heiden [0.31 0.31 0.31] 0.31 [97, 439, 626]\n",
      "False Pass [0.11 0.11 0.11] 0.11 [45, 377, 564]\n",
      "Nelson Lagoon [0.57 0.57 0.57] 0.57 [84, 424, 611]\n",
      "Sand Point [0.2 0.2 0.2] 0.2 [102, 442, 629]\n",
      "Nikolski [0.57 0.57 0.57] 0.57 [122, 463, 650]\n",
      "Saint George [0.77 0.77 0.77] 0.77 [135, 448, 635]\n",
      "Saint Paul [0.24 0.24 0.24] 0.24 [107, 449, 636]\n",
      "Unalaska [0.14 0.14 0.14] 0.14 [123, 465, 652]\n",
      "Anvik [0.31 0.31 0.31] 0.31 [203, 300, 487]\n",
      "Grayling [0.29 0.29 0.29] 0.29 [211, 308, 495]\n",
      "Holy Cross [0.28 0.28 0.28] 0.28 [212, 309, 496]\n",
      "McGrath [0.37 0.37 0.37] 0.37 [78, 415, 602]\n",
      "Nikolai [0.42 0.42 0.42] 0.42 [86, 425, 612]\n",
      "Shageluk [0.31 0.31 0.31] 0.31 [239, 335, 522]\n",
      "Takotna [0.41 0.41 0.41] 0.41 [109, 451, 638]\n",
      "Beaver [0.56 0.56 0.56] 0.56 [22, 349, 536]\n",
      "Fort Yukon [0.37 0.37 0.37] 0.37 [51, 383, 570]\n",
      "Venetie [0.34 0.34 0.34] 0.34 [280, 467, 654]\n",
      "Alatna [0.5 0.5 0.5] 0.5 [248, 290, 477]\n",
      "Evansville [0.36 0.36 0.36] 0.36 [257, 562, 375]\n",
      "Galena [0.2 0.2 0.2] 0.2 [48, 379, 566]\n",
      "Hughes [0.49 0.49 0.49] 0.49 [55, 389, 576]\n",
      "Huslia [0.3 0.3 0.3] 0.3 [214, 311, 498]\n",
      "Kaltag [0.29 0.29 0.29] 0.29 [215, 312, 499]\n",
      "Koyukuk [0.31 0.31 0.31] 0.31 [70, 406, 593]\n",
      "Manley Hot Springs [0.58 0.58 0.58] 0.58 [75, 413, 600]\n",
      "Minto [0.27 0.27 0.27] 0.27 [222, 320, 507]\n",
      "Nulato [0.29 0.29 0.29] 0.29 [228, 326, 513]\n",
      "Ruby [0.3 0.3 0.3] 0.3 [101, 441, 628]\n",
      "Stevens Village [0.51 0.51 0.51] 0.51 [274, 450, 637]\n",
      "Tanana [0.32 0.32 0.32] 0.32 [111, 453, 640]\n",
      "Dot Lake [0.14 0.14 0.14] 0.14 [254, 369, 556]\n",
      "Eagle [0.33 0.33 0.33] 0.33 [256, 370, 557]\n",
      "Northway [0.32 0.32 0.32] 0.32 [266, 428, 615]\n",
      "Tanacross [0.22 0.22 0.22] 0.22 [270, 459, 646]\n",
      "Tetlin [0.22 0.22 0.22] 0.22 [268, 457, 644]\n",
      "Tok [0.22 0.22 0.22] 0.22 [270, 459, 646]\n",
      "Haines [0.03 0.03 0.03] 0.03 [258, 384, 571]\n",
      "Elfin Cove [0.35 0.35 0.35] 0.35 [43, 373, 560]\n",
      "Gustavus [0.09 0.09] 0.09 [50, 382]\n",
      "Hoonah [0.28 0.28 0.28] 0.28 [283, 393, 580]\n",
      "Pelican [0.22 0.22 0.22] 0.22 [98, 434, 621]\n",
      "Yakutat [0.26 0.26 0.26] 0.26 [129, 471, 658]\n",
      "Klukwan [0.28 0.28 0.28] 0.28 [283, 393, 580]\n",
      "Skagway [0.03 0.03 0.03] 0.03 [267, 446, 633]\n",
      "Tenakee Springs [0.31 0.31 0.31] 0.31 [115, 456, 643]\n",
      "Kake [0.28 0.28 0.28] 0.28 [283, 393, 580]\n",
      "Hollis [0.03 0.03 0.03] 0.03 [260, 386, 573]\n",
      "Craig [0.03 0.03 0.03] 0.03 [253, 367, 554]\n",
      "Hydaburg [0.03 0.03 0.03] 0.03 [261, 390, 577]\n",
      "Kasaan [0.03 0.03 0.03] 0.03 [262, 395, 582]\n",
      "Klawock [0.03 0.03 0.03] 0.03 [263, 399, 586]\n",
      "Thorne Bay [0.03 0.03 0.03] 0.03 [269, 458, 645]\n",
      "Chistochina [0.29 0.29 0.29] 0.29 [251, 359, 546]\n",
      "Mentasta Lake [0.29 0.29 0.29] 0.29 [264, 416, 603]\n",
      "Slana [0.29 0.29 0.29] 0.29 [282, 447, 634]\n",
      "Eyak [0.08 0.08 0.08] 0.08 [37, 366, 553]\n",
      "Chenega [0.35 0.35 0.35] 0.35 [278, 356, 543]\n",
      "Tatitlek [0.54 0.54 0.54] 0.54 [112, 454, 641]\n",
      "Akhiok [0.38 0.38 0.38] 0.38 [6, 285, 472]\n",
      "Karluk [0.37 0.37 0.37] 0.37 [15, 292, 479]\n",
      "Larsen Bay [0.0001 0.0001 0.0001] 0.0001 [73, 409, 596]\n",
      "Old Harbor [0.3 0.3 0.3] 0.3 [230, 328, 515]\n",
      "Ouzinkie [0.12 0.12 0.12] 0.12 [91, 431, 618]\n",
      "Alakanuk [0.26 0.26 0.26] 0.26 [201, 298, 485]\n",
      "Aleknagik [0.15 0.15 0.15] 0.15 [90, 430, 617]\n",
      "Anaktuvuk Pass - C [0.08 0.08 0.08] 0.08 [88, 427, 614]\n",
      "Dutch Harbor [0.14 0.14 0.14] 0.14 [123, 465, 652]\n",
      "Whale Pass [0.03 0.03 0.03] 0.03 [271, 468, 655]\n",
      "Naukati [0.03 0.03 0.03] 0.03 [199, 423, 610]\n",
      "Anaktuvuk Pass Res [0.08 0.08 0.08] 0.08 [88, 427, 614]\n",
      "Atqasuk - Res [0.08 0.08 0.08] 0.08 [87, 426, 614]\n",
      "Kaktovik - Com [0.08 0.08 0.08] 0.08 [88, 427, 614]\n",
      "Point Hope Com [0.08 0.08 0.08] 0.08 [88, 427, 614]\n",
      "Wainwright Com [0.08 0.08 0.08] 0.08 [88, 427, 614]\n"
     ]
    }
   ],
   "source": [
    "df_city = library.df_city\n",
    "df_util = library.df_util\n",
    "for ix, cty in df_city.iterrows():\n",
    "    util_ids = [id for nm, id in cty.ElecUtilities]\n",
    "    pces = df_util.loc[util_ids].PCE\n",
    "    pce_vals = pces[pces > 0.0]\n",
    "    pce_max = pces.max()\n",
    "    if pce_max > 0:\n",
    "        print(cty.Name, pces.values, pce_max, util_ids)"
   ]
  },
  {
   "cell_type": "code",
   "execution_count": 59,
   "metadata": {},
   "outputs": [
    {
     "data": {
      "text/plain": [
       "1"
      ]
     },
     "execution_count": 59,
     "metadata": {},
     "output_type": "execute_result"
    }
   ],
   "source": [
    "choices = df_city.Name.values\n",
    "df_city.index.min()"
   ]
  },
  {
   "cell_type": "code",
   "execution_count": 61,
   "metadata": {},
   "outputs": [
    {
     "data": {
      "text/plain": [
       "[('Anaktuvuk Pass - C', 90),\n",
       " ('Anaktuvuk Pass Res', 90),\n",
       " ('Aniak', 80),\n",
       " ('Kongiganak', 80),\n",
       " ('Adak', 67)]"
      ]
     },
     "execution_count": 61,
     "metadata": {},
     "output_type": "execute_result"
    }
   ],
   "source": [
    "# Phonetic matching of a city name to a list of cities\n",
    "# This takes about 11 ms to do:  x 250 cities\n",
    "cty = 'anakt'\n",
    "process.extract(cty, choices)"
   ]
  },
  {
   "cell_type": "code",
   "execution_count": 62,
   "metadata": {},
   "outputs": [
    {
     "data": {
      "text/html": [
       "<div>\n",
       "<style scoped>\n",
       "    .dataframe tbody tr th:only-of-type {\n",
       "        vertical-align: middle;\n",
       "    }\n",
       "\n",
       "    .dataframe tbody tr th {\n",
       "        vertical-align: top;\n",
       "    }\n",
       "\n",
       "    .dataframe thead th {\n",
       "        text-align: right;\n",
       "    }\n",
       "</style>\n",
       "<table border=\"1\" class=\"dataframe\">\n",
       "  <thead>\n",
       "    <tr style=\"text-align: right;\">\n",
       "      <th></th>\n",
       "      <th>ARIS_cities</th>\n",
       "      <th>census_city</th>\n",
       "      <th>census_area</th>\n",
       "      <th>ancsa_region</th>\n",
       "      <th>railbelt</th>\n",
       "      <th>Hub</th>\n",
       "    </tr>\n",
       "  </thead>\n",
       "  <tbody>\n",
       "    <tr>\n",
       "      <th>0</th>\n",
       "      <td>Akutan</td>\n",
       "      <td>Akutan city</td>\n",
       "      <td>Aleutians East Borough</td>\n",
       "      <td>Aleut</td>\n",
       "      <td>Affordable Energy Strategy Area</td>\n",
       "      <td>0</td>\n",
       "    </tr>\n",
       "    <tr>\n",
       "      <th>1</th>\n",
       "      <td>Cold Bay</td>\n",
       "      <td>Cold Bay city</td>\n",
       "      <td>Aleutians East Borough</td>\n",
       "      <td>Aleut</td>\n",
       "      <td>Affordable Energy Strategy Area</td>\n",
       "      <td>0</td>\n",
       "    </tr>\n",
       "    <tr>\n",
       "      <th>2</th>\n",
       "      <td>False Pass</td>\n",
       "      <td>False Pass city</td>\n",
       "      <td>Aleutians East Borough</td>\n",
       "      <td>Aleut</td>\n",
       "      <td>Affordable Energy Strategy Area</td>\n",
       "      <td>0</td>\n",
       "    </tr>\n",
       "    <tr>\n",
       "      <th>3</th>\n",
       "      <td>King Cove</td>\n",
       "      <td>King Cove city</td>\n",
       "      <td>Aleutians East Borough</td>\n",
       "      <td>Aleut</td>\n",
       "      <td>Affordable Energy Strategy Area</td>\n",
       "      <td>0</td>\n",
       "    </tr>\n",
       "    <tr>\n",
       "      <th>4</th>\n",
       "      <td>Nelson Lagoon</td>\n",
       "      <td>Nelson Lagoon CDP</td>\n",
       "      <td>Aleutians East Borough</td>\n",
       "      <td>Aleut</td>\n",
       "      <td>Affordable Energy Strategy Area</td>\n",
       "      <td>0</td>\n",
       "    </tr>\n",
       "  </tbody>\n",
       "</table>\n",
       "</div>"
      ],
      "text/plain": [
       "     ARIS_cities        census_city             census_area ancsa_region  \\\n",
       "0         Akutan        Akutan city  Aleutians East Borough        Aleut   \n",
       "1       Cold Bay      Cold Bay city  Aleutians East Borough        Aleut   \n",
       "2     False Pass    False Pass city  Aleutians East Borough        Aleut   \n",
       "3      King Cove     King Cove city  Aleutians East Borough        Aleut   \n",
       "4  Nelson Lagoon  Nelson Lagoon CDP  Aleutians East Borough        Aleut   \n",
       "\n",
       "                          railbelt  Hub  \n",
       "0  Affordable Energy Strategy Area    0  \n",
       "1  Affordable Energy Strategy Area    0  \n",
       "2  Affordable Energy Strategy Area    0  \n",
       "3  Affordable Energy Strategy Area    0  \n",
       "4  Affordable Energy Strategy Area    0  "
      ]
     },
     "execution_count": 62,
     "metadata": {},
     "output_type": "execute_result"
    }
   ],
   "source": [
    "df_cty_cen = pd.read_csv('data/aris_city_to_census_lookups.csv')\n",
    "df_cty_cen.head()"
   ]
  },
  {
   "cell_type": "code",
   "execution_count": 75,
   "metadata": {},
   "outputs": [
    {
     "name": "stdout",
     "output_type": "stream",
     "text": [
      "Minchumina Huslia 60\n",
      "Eyak Tenakee Springs 68\n",
      "Faribanks - Chena Ridge Fairbanks 80\n"
     ]
    }
   ],
   "source": [
    "aris_cities = df_cty_cen.ARIS_cities.values\n",
    "ratios = []\n",
    "for akw_cty in choices:\n",
    "    mtch_cty, ratio = process.extractOne(akw_cty, aris_cities)\n",
    "    ratios.append(ratio)\n",
    "    if ratio < 90:\n",
    "        print(akw_cty, mtch_cty, ratio)\n",
    "    "
   ]
  },
  {
   "cell_type": "code",
   "execution_count": 81,
   "metadata": {},
   "outputs": [
    {
     "data": {
      "image/png": "[encoded data removed]",
      "text/plain": [
       "<matplotlib.figure.Figure at 0x1890608d518>"
      ]
     },
     "metadata": {},
     "output_type": "display_data"
    }
   ],
   "source": [
    "hist(ratios, bins=30)\n",
    "ylim(0,10)\n",
    "xlim(50, 99);"
   ]
  },
  {
   "cell_type": "code",
   "execution_count": 95,
   "metadata": {},
   "outputs": [],
   "source": [
    "import heatpump.hp_model \n",
    "reload(heatpump.hp_model)\n",
    "mod = heatpump.hp_model.HP_model()"
   ]
  },
  {
   "cell_type": "code",
   "execution_count": 105,
   "metadata": {},
   "outputs": [
    {
     "data": {
      "text/html": [
       "<div>\n",
       "<style scoped>\n",
       "    .dataframe tbody tr th:only-of-type {\n",
       "        vertical-align: middle;\n",
       "    }\n",
       "\n",
       "    .dataframe tbody tr th {\n",
       "        vertical-align: top;\n",
       "    }\n",
       "\n",
       "    .dataframe thead th {\n",
       "        text-align: right;\n",
       "    }\n",
       "</style>\n",
       "<table border=\"1\" class=\"dataframe\">\n",
       "  <thead>\n",
       "    <tr style=\"text-align: right;\">\n",
       "      <th></th>\n",
       "      <th>heat_load_mmbtu</th>\n",
       "      <th>fuel_units_no_hp</th>\n",
       "      <th>fuel_mmbtu_no_hp</th>\n",
       "      <th>fuel_$_no_hp</th>\n",
       "      <th>fuel_units_w_hp</th>\n",
       "      <th>fuel_mmbtu_w_hp</th>\n",
       "      <th>fuel_$_w_hp</th>\n",
       "      <th>elec_kwh_no_hp</th>\n",
       "      <th>elec_$_no_hp</th>\n",
       "      <th>elec_kwh_w_hp</th>\n",
       "      <th>elec_$_w_hp</th>\n",
       "      <th>fuel_chg_units</th>\n",
       "      <th>fuel_chg_mmbtu</th>\n",
       "      <th>fuel_chg_$</th>\n",
       "      <th>elec_chg_kwh</th>\n",
       "      <th>elec_chg_$</th>\n",
       "      <th>cop</th>\n",
       "      <th>co2_lbs_saved</th>\n",
       "    </tr>\n",
       "    <tr>\n",
       "      <th>month</th>\n",
       "      <th></th>\n",
       "      <th></th>\n",
       "      <th></th>\n",
       "      <th></th>\n",
       "      <th></th>\n",
       "      <th></th>\n",
       "      <th></th>\n",
       "      <th></th>\n",
       "      <th></th>\n",
       "      <th></th>\n",
       "      <th></th>\n",
       "      <th></th>\n",
       "      <th></th>\n",
       "      <th></th>\n",
       "      <th></th>\n",
       "      <th></th>\n",
       "      <th></th>\n",
       "      <th></th>\n",
       "    </tr>\n",
       "  </thead>\n",
       "  <tbody>\n",
       "    <tr>\n",
       "      <th>1</th>\n",
       "      <td>15.846369</td>\n",
       "      <td>146.725639</td>\n",
       "      <td>19.807961</td>\n",
       "      <td>762.973322</td>\n",
       "      <td>146.725639</td>\n",
       "      <td>19.807961</td>\n",
       "      <td>762.973322</td>\n",
       "      <td>450</td>\n",
       "      <td>94.5</td>\n",
       "      <td>450.000000</td>\n",
       "      <td>94.500000</td>\n",
       "      <td>0.000000</td>\n",
       "      <td>0.000000</td>\n",
       "      <td>0.000000</td>\n",
       "      <td>0.000000</td>\n",
       "      <td>0.000000</td>\n",
       "      <td>1.80</td>\n",
       "      <td>0.000000</td>\n",
       "    </tr>\n",
       "    <tr>\n",
       "      <th>2</th>\n",
       "      <td>14.096859</td>\n",
       "      <td>130.526472</td>\n",
       "      <td>17.621074</td>\n",
       "      <td>678.737656</td>\n",
       "      <td>130.526472</td>\n",
       "      <td>17.621074</td>\n",
       "      <td>678.737656</td>\n",
       "      <td>430</td>\n",
       "      <td>90.3</td>\n",
       "      <td>430.000000</td>\n",
       "      <td>90.300000</td>\n",
       "      <td>0.000000</td>\n",
       "      <td>0.000000</td>\n",
       "      <td>0.000000</td>\n",
       "      <td>0.000000</td>\n",
       "      <td>0.000000</td>\n",
       "      <td>1.85</td>\n",
       "      <td>0.000000</td>\n",
       "    </tr>\n",
       "    <tr>\n",
       "      <th>3</th>\n",
       "      <td>15.259209</td>\n",
       "      <td>141.288972</td>\n",
       "      <td>19.074011</td>\n",
       "      <td>734.702656</td>\n",
       "      <td>141.288972</td>\n",
       "      <td>19.074011</td>\n",
       "      <td>734.702656</td>\n",
       "      <td>410</td>\n",
       "      <td>86.1</td>\n",
       "      <td>410.000000</td>\n",
       "      <td>86.100000</td>\n",
       "      <td>0.000000</td>\n",
       "      <td>0.000000</td>\n",
       "      <td>0.000000</td>\n",
       "      <td>0.000000</td>\n",
       "      <td>0.000000</td>\n",
       "      <td>1.90</td>\n",
       "      <td>0.000000</td>\n",
       "    </tr>\n",
       "    <tr>\n",
       "      <th>4</th>\n",
       "      <td>12.243798</td>\n",
       "      <td>113.368500</td>\n",
       "      <td>15.304748</td>\n",
       "      <td>589.516200</td>\n",
       "      <td>32.391000</td>\n",
       "      <td>4.372785</td>\n",
       "      <td>168.433200</td>\n",
       "      <td>390</td>\n",
       "      <td>81.9</td>\n",
       "      <td>1555.081797</td>\n",
       "      <td>579.786809</td>\n",
       "      <td>-80.977500</td>\n",
       "      <td>-10.931963</td>\n",
       "      <td>-421.083000</td>\n",
       "      <td>1165.081797</td>\n",
       "      <td>497.886809</td>\n",
       "      <td>2.20</td>\n",
       "      <td>-115.735730</td>\n",
       "    </tr>\n",
       "    <tr>\n",
       "      <th>5</th>\n",
       "      <td>7.923930</td>\n",
       "      <td>73.369722</td>\n",
       "      <td>9.904913</td>\n",
       "      <td>381.522556</td>\n",
       "      <td>20.962778</td>\n",
       "      <td>2.829975</td>\n",
       "      <td>109.006444</td>\n",
       "      <td>370</td>\n",
       "      <td>77.7</td>\n",
       "      <td>888.386394</td>\n",
       "      <td>279.773877</td>\n",
       "      <td>-52.406944</td>\n",
       "      <td>-7.074938</td>\n",
       "      <td>-272.516111</td>\n",
       "      <td>518.386394</td>\n",
       "      <td>202.073877</td>\n",
       "      <td>3.20</td>\n",
       "      <td>304.462844</td>\n",
       "    </tr>\n",
       "    <tr>\n",
       "      <th>6</th>\n",
       "      <td>4.207392</td>\n",
       "      <td>38.957333</td>\n",
       "      <td>5.259240</td>\n",
       "      <td>202.578133</td>\n",
       "      <td>11.130667</td>\n",
       "      <td>1.502640</td>\n",
       "      <td>57.879467</td>\n",
       "      <td>350</td>\n",
       "      <td>73.5</td>\n",
       "      <td>601.656339</td>\n",
       "      <td>150.745353</td>\n",
       "      <td>-27.826667</td>\n",
       "      <td>-3.756600</td>\n",
       "      <td>-144.698667</td>\n",
       "      <td>251.656339</td>\n",
       "      <td>77.245353</td>\n",
       "      <td>3.50</td>\n",
       "      <td>199.645894</td>\n",
       "    </tr>\n",
       "    <tr>\n",
       "      <th>7</th>\n",
       "      <td>1.439844</td>\n",
       "      <td>13.331889</td>\n",
       "      <td>1.799805</td>\n",
       "      <td>69.325822</td>\n",
       "      <td>3.809111</td>\n",
       "      <td>0.514230</td>\n",
       "      <td>19.807378</td>\n",
       "      <td>370</td>\n",
       "      <td>77.7</td>\n",
       "      <td>456.121253</td>\n",
       "      <td>95.785463</td>\n",
       "      <td>-9.522778</td>\n",
       "      <td>-1.285575</td>\n",
       "      <td>-49.518444</td>\n",
       "      <td>86.121253</td>\n",
       "      <td>18.085463</td>\n",
       "      <td>3.50</td>\n",
       "      <td>68.322358</td>\n",
       "    </tr>\n",
       "    <tr>\n",
       "      <th>8</th>\n",
       "      <td>2.028516</td>\n",
       "      <td>18.782556</td>\n",
       "      <td>2.535645</td>\n",
       "      <td>97.669289</td>\n",
       "      <td>5.366444</td>\n",
       "      <td>0.724470</td>\n",
       "      <td>27.905511</td>\n",
       "      <td>390</td>\n",
       "      <td>81.9</td>\n",
       "      <td>511.331435</td>\n",
       "      <td>110.099146</td>\n",
       "      <td>-13.416111</td>\n",
       "      <td>-1.811175</td>\n",
       "      <td>-69.763778</td>\n",
       "      <td>121.331435</td>\n",
       "      <td>28.199146</td>\n",
       "      <td>3.50</td>\n",
       "      <td>96.255564</td>\n",
       "    </tr>\n",
       "    <tr>\n",
       "      <th>9</th>\n",
       "      <td>4.443894</td>\n",
       "      <td>41.147167</td>\n",
       "      <td>5.554867</td>\n",
       "      <td>213.965267</td>\n",
       "      <td>11.756333</td>\n",
       "      <td>1.587105</td>\n",
       "      <td>61.132933</td>\n",
       "      <td>410</td>\n",
       "      <td>86.1</td>\n",
       "      <td>675.802211</td>\n",
       "      <td>184.110995</td>\n",
       "      <td>-29.390833</td>\n",
       "      <td>-3.967762</td>\n",
       "      <td>-152.832333</td>\n",
       "      <td>265.802211</td>\n",
       "      <td>98.010995</td>\n",
       "      <td>3.50</td>\n",
       "      <td>210.868203</td>\n",
       "    </tr>\n",
       "    <tr>\n",
       "      <th>10</th>\n",
       "      <td>9.463272</td>\n",
       "      <td>87.622889</td>\n",
       "      <td>11.829090</td>\n",
       "      <td>455.639022</td>\n",
       "      <td>25.035111</td>\n",
       "      <td>3.379740</td>\n",
       "      <td>130.182578</td>\n",
       "      <td>430</td>\n",
       "      <td>90.3</td>\n",
       "      <td>1090.363423</td>\n",
       "      <td>370.663540</td>\n",
       "      <td>-62.587778</td>\n",
       "      <td>-8.449350</td>\n",
       "      <td>-325.456444</td>\n",
       "      <td>660.363423</td>\n",
       "      <td>280.363540</td>\n",
       "      <td>3.00</td>\n",
       "      <td>297.160239</td>\n",
       "    </tr>\n",
       "    <tr>\n",
       "      <th>11</th>\n",
       "      <td>13.032873</td>\n",
       "      <td>120.674750</td>\n",
       "      <td>16.291091</td>\n",
       "      <td>627.508700</td>\n",
       "      <td>34.478500</td>\n",
       "      <td>4.654598</td>\n",
       "      <td>179.288200</td>\n",
       "      <td>430</td>\n",
       "      <td>90.3</td>\n",
       "      <td>1670.167724</td>\n",
       "      <td>631.575476</td>\n",
       "      <td>-86.196250</td>\n",
       "      <td>-11.636494</td>\n",
       "      <td>-448.220500</td>\n",
       "      <td>1240.167724</td>\n",
       "      <td>541.275476</td>\n",
       "      <td>2.20</td>\n",
       "      <td>-123.194541</td>\n",
       "    </tr>\n",
       "    <tr>\n",
       "      <th>12</th>\n",
       "      <td>15.590337</td>\n",
       "      <td>144.354972</td>\n",
       "      <td>19.487921</td>\n",
       "      <td>750.645856</td>\n",
       "      <td>144.354972</td>\n",
       "      <td>19.487921</td>\n",
       "      <td>750.645856</td>\n",
       "      <td>450</td>\n",
       "      <td>94.5</td>\n",
       "      <td>450.000000</td>\n",
       "      <td>94.500000</td>\n",
       "      <td>0.000000</td>\n",
       "      <td>0.000000</td>\n",
       "      <td>0.000000</td>\n",
       "      <td>0.000000</td>\n",
       "      <td>0.000000</td>\n",
       "      <td>1.85</td>\n",
       "      <td>0.000000</td>\n",
       "    </tr>\n",
       "  </tbody>\n",
       "</table>\n",
       "</div>"
      ],
      "text/plain": [
       "       heat_load_mmbtu  fuel_units_no_hp  fuel_mmbtu_no_hp  fuel_$_no_hp  \\\n",
       "month                                                                      \n",
       "1            15.846369        146.725639         19.807961    762.973322   \n",
       "2            14.096859        130.526472         17.621074    678.737656   \n",
       "3            15.259209        141.288972         19.074011    734.702656   \n",
       "4            12.243798        113.368500         15.304748    589.516200   \n",
       "5             7.923930         73.369722          9.904913    381.522556   \n",
       "6             4.207392         38.957333          5.259240    202.578133   \n",
       "7             1.439844         13.331889          1.799805     69.325822   \n",
       "8             2.028516         18.782556          2.535645     97.669289   \n",
       "9             4.443894         41.147167          5.554867    213.965267   \n",
       "10            9.463272         87.622889         11.829090    455.639022   \n",
       "11           13.032873        120.674750         16.291091    627.508700   \n",
       "12           15.590337        144.354972         19.487921    750.645856   \n",
       "\n",
       "       fuel_units_w_hp  fuel_mmbtu_w_hp  fuel_$_w_hp  elec_kwh_no_hp  \\\n",
       "month                                                                  \n",
       "1           146.725639        19.807961   762.973322             450   \n",
       "2           130.526472        17.621074   678.737656             430   \n",
       "3           141.288972        19.074011   734.702656             410   \n",
       "4            32.391000         4.372785   168.433200             390   \n",
       "5            20.962778         2.829975   109.006444             370   \n",
       "6            11.130667         1.502640    57.879467             350   \n",
       "7             3.809111         0.514230    19.807378             370   \n",
       "8             5.366444         0.724470    27.905511             390   \n",
       "9            11.756333         1.587105    61.132933             410   \n",
       "10           25.035111         3.379740   130.182578             430   \n",
       "11           34.478500         4.654598   179.288200             430   \n",
       "12          144.354972        19.487921   750.645856             450   \n",
       "\n",
       "       elec_$_no_hp  elec_kwh_w_hp  elec_$_w_hp  fuel_chg_units  \\\n",
       "month                                                             \n",
       "1              94.5     450.000000    94.500000        0.000000   \n",
       "2              90.3     430.000000    90.300000        0.000000   \n",
       "3              86.1     410.000000    86.100000        0.000000   \n",
       "4              81.9    1555.081797   579.786809      -80.977500   \n",
       "5              77.7     888.386394   279.773877      -52.406944   \n",
       "6              73.5     601.656339   150.745353      -27.826667   \n",
       "7              77.7     456.121253    95.785463       -9.522778   \n",
       "8              81.9     511.331435   110.099146      -13.416111   \n",
       "9              86.1     675.802211   184.110995      -29.390833   \n",
       "10             90.3    1090.363423   370.663540      -62.587778   \n",
       "11             90.3    1670.167724   631.575476      -86.196250   \n",
       "12             94.5     450.000000    94.500000        0.000000   \n",
       "\n",
       "       fuel_chg_mmbtu  fuel_chg_$  elec_chg_kwh  elec_chg_$   cop  \\\n",
       "month                                                               \n",
       "1            0.000000    0.000000      0.000000    0.000000  1.80   \n",
       "2            0.000000    0.000000      0.000000    0.000000  1.85   \n",
       "3            0.000000    0.000000      0.000000    0.000000  1.90   \n",
       "4          -10.931963 -421.083000   1165.081797  497.886809  2.20   \n",
       "5           -7.074938 -272.516111    518.386394  202.073877  3.20   \n",
       "6           -3.756600 -144.698667    251.656339   77.245353  3.50   \n",
       "7           -1.285575  -49.518444     86.121253   18.085463  3.50   \n",
       "8           -1.811175  -69.763778    121.331435   28.199146  3.50   \n",
       "9           -3.967762 -152.832333    265.802211   98.010995  3.50   \n",
       "10          -8.449350 -325.456444    660.363423  280.363540  3.00   \n",
       "11         -11.636494 -448.220500   1240.167724  541.275476  2.20   \n",
       "12           0.000000    0.000000      0.000000    0.000000  1.85   \n",
       "\n",
       "       co2_lbs_saved  \n",
       "month                 \n",
       "1           0.000000  \n",
       "2           0.000000  \n",
       "3           0.000000  \n",
       "4        -115.735730  \n",
       "5         304.462844  \n",
       "6         199.645894  \n",
       "7          68.322358  \n",
       "8          96.255564  \n",
       "9         210.868203  \n",
       "10        297.160239  \n",
       "11       -123.194541  \n",
       "12          0.000000  "
      ]
     },
     "execution_count": 105,
     "metadata": {},
     "output_type": "execute_result"
    }
   ],
   "source": [
    "mod.monthly_results()"
   ]
  },
  {
   "cell_type": "code",
   "execution_count": 97,
   "metadata": {},
   "outputs": [
    {
     "data": {
      "text/plain": [
       "heat_load_mmbtu      115.576293\n",
       "fuel_units_no_hp    1070.150861\n",
       "fuel_mmbtu_no_hp     144.470366\n",
       "fuel_$_no_hp        5564.784478\n",
       "fuel_units_w_hp      707.826000\n",
       "fuel_mmbtu_w_hp       95.556510\n",
       "fuel_$_w_hp         3680.695200\n",
       "elec_kwh_no_hp      4880.000000\n",
       "elec_$_no_hp        1024.800000\n",
       "elec_kwh_w_hp       9188.910575\n",
       "elec_$_w_hp         2767.940658\n",
       "fuel_chg_units      -362.324861\n",
       "fuel_chg_mmbtu       -48.913856\n",
       "fuel_chg_$         -1884.089278\n",
       "elec_chg_kwh        4308.910575\n",
       "elec_chg_$          1743.140658\n",
       "cop                    2.661616\n",
       "co2_lbs_saved        937.784831\n",
       "dtype: float64"
      ]
     },
     "execution_count": 97,
     "metadata": {},
     "output_type": "execute_result"
    }
   ],
   "source": [
    "mod.annual_results()"
   ]
  },
  {
   "cell_type": "code",
   "execution_count": 23,
   "metadata": {},
   "outputs": [
    {
     "data": {
      "text/plain": [
       "nan"
      ]
     },
     "execution_count": 23,
     "metadata": {},
     "output_type": "execute_result"
    }
   ],
   "source": [
    "ec = elec_cost.ElecCostCalc(23)\n",
    "ec.monthly_cost(800)"
   ]
  },
  {
   "cell_type": "code",
   "execution_count": 24,
   "metadata": {},
   "outputs": [
    {
     "data": {
      "text/plain": [
       "ID                                                             23\n",
       "Name                    Bethel Utilities Corportion - Residential\n",
       "Active                                                          1\n",
       "Type                                                            1\n",
       "IsCommercial                                                    0\n",
       "ChargesRCC                                                      1\n",
       "PCE                                                          0.11\n",
       "CO2                                                           1.5\n",
       "CustomerChg                                                     5\n",
       "DemandCharge                                                  NaN\n",
       "NameShort                                                  Bethel\n",
       "Blocks          [(700.0, 0.3209), (nan, nan), (nan, nan), (nan...\n",
       "Name: 23, dtype: object"
      ]
     },
     "execution_count": 24,
     "metadata": {},
     "output_type": "execute_result"
    }
   ],
   "source": [
    "library.util_from_id(23)"
   ]
  }
 ],
 "metadata": {
  "kernelspec": {
   "display_name": "Python 3",
   "language": "python",
   "name": "python3"
  },
  "language_info": {
   "codemirror_mode": {
    "name": "ipython",
    "version": 3
   },
   "file_extension": ".py",
   "mimetype": "text/x-python",
   "name": "python",
   "nbconvert_exporter": "python",
   "pygments_lexer": "ipython3",
   "version": "3.6.4"
  }
 },
 "nbformat": 4,
 "nbformat_minor": 2
}
