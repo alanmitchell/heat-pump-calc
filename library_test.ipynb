{
 "cells": [
  {
   "cell_type": "code",
   "execution_count": 1,
   "metadata": {},
   "outputs": [],
   "source": [
    "import math\n",
    "import pandas as pd\n",
    "import numpy as np\n",
    "from importlib import reload"
   ]
  },
  {
   "cell_type": "code",
   "execution_count": 2,
   "metadata": {},
   "outputs": [],
   "source": [
    "import library"
   ]
  },
  {
   "cell_type": "code",
   "execution_count": 20,
   "metadata": {},
   "outputs": [
    {
     "data": {
      "text/plain": [
       "<module 'library' from 'C:\\\\Users\\\\tabb9\\\\Documents\\\\GitHub\\\\heat-pump-calc\\\\library.py'>"
      ]
     },
     "execution_count": 20,
     "metadata": {},
     "output_type": "execute_result"
    }
   ],
   "source": [
    "reload(library)"
   ]
  },
  {
   "cell_type": "code",
   "execution_count": 4,
   "metadata": {},
   "outputs": [
    {
     "data": {
      "text/plain": [
       "Name                                                         Anchorage\n",
       "Latitude                                                         61.15\n",
       "Longitude                                                      -149.86\n",
       "FuelRefer                                                            0\n",
       "FuelCityID                                                         NaN\n",
       "Oil1Price                                                         3.07\n",
       "Oil2Price                                                          NaN\n",
       "PropanePrice                                                       4.5\n",
       "BirchPrice                                                         325\n",
       "SprucePrice                                                        345\n",
       "CoalPrice                                                          175\n",
       "SteamPrice                                                         NaN\n",
       "HotWaterPrice                                                      NaN\n",
       "MunicipalSalesTax                                                  NaN\n",
       "BoroughSalesTax                                                    NaN\n",
       "TMYid                                                           702730\n",
       "TMYname                                          ANCHORAGE INTL AP, AK\n",
       "ElecUtilities        [(Anchorage ML&P - Residential, 2), (Anchorage...\n",
       "GasPrice                                                          0.97\n",
       "Name: 1, dtype: object"
      ]
     },
     "execution_count": 4,
     "metadata": {},
     "output_type": "execute_result"
    }
   ],
   "source": [
    "library.df_city.iloc[0]"
   ]
  },
  {
   "cell_type": "code",
   "execution_count": 5,
   "metadata": {},
   "outputs": [
    {
     "data": {
      "text/plain": [
       "[('Anchorage ML&P - Residential', 2),\n",
       " ('Anchorage ML&P - Commercial - Sm', 293),\n",
       " ('Anchorage ML&P - Commercial - Lg', 480),\n",
       " ('Chugach Electric- Residential', 1),\n",
       " ('Chugach Electric - Commercial - Sm', 361),\n",
       " ('Chugach Electric - Commercial - Lg', 548)]"
      ]
     },
     "execution_count": 5,
     "metadata": {},
     "output_type": "execute_result"
    }
   ],
   "source": [
    "library.df_city.iloc[0].ElecUtilities"
   ]
  },
  {
   "cell_type": "code",
   "execution_count": 21,
   "metadata": {},
   "outputs": [
    {
     "data": {
      "text/plain": [
       "ID                                                              1\n",
       "Name                                Chugach Electric- Residential\n",
       "Active                                                          1\n",
       "Type                                                            1\n",
       "IsCommercial                                                    0\n",
       "ChargesRCC                                                      1\n",
       "PCE                                                             0\n",
       "CO2                                                           1.1\n",
       "CustomerChg                                                     8\n",
       "DemandCharge                                                  NaN\n",
       "NameShort                                                  Chugac\n",
       "Blocks          [(nan, 0.17713), (nan, nan), (nan, nan), (nan,...\n",
       "Name: 1, dtype: object"
      ]
     },
     "execution_count": 21,
     "metadata": {},
     "output_type": "execute_result"
    }
   ],
   "source": [
    "library.df_util.iloc[0]"
   ]
  },
  {
   "cell_type": "code",
   "execution_count": 7,
   "metadata": {},
   "outputs": [
    {
     "data": {
      "text/plain": [
       "ID                                                                      1\n",
       "LibVersion                                              2/27/2018 0:00:00\n",
       "DiscountRate                                                         0.03\n",
       "RegSurcharge                                                       0.0032\n",
       "RegSurchargeElectric                                               0.0009\n",
       "PCEkWhLimit                                                           500\n",
       "PCEFundingPct                                                           1\n",
       "MiscNotes               Inflation factors and discount rate from 2011 ...\n",
       "Name: 0, dtype: object"
      ]
     },
     "execution_count": 7,
     "metadata": {},
     "output_type": "execute_result"
    }
   ],
   "source": [
    "library.misc_info"
   ]
  },
  {
   "cell_type": "code",
   "execution_count": 8,
   "metadata": {},
   "outputs": [
    {
     "data": {
      "text/html": [
       "<div>\n",
       "<style scoped>\n",
       "    .dataframe tbody tr th:only-of-type {\n",
       "        vertical-align: middle;\n",
       "    }\n",
       "\n",
       "    .dataframe tbody tr th {\n",
       "        vertical-align: top;\n",
       "    }\n",
       "\n",
       "    .dataframe thead th {\n",
       "        text-align: right;\n",
       "    }\n",
       "</style>\n",
       "<table border=\"1\" class=\"dataframe\">\n",
       "  <thead>\n",
       "    <tr style=\"text-align: right;\">\n",
       "      <th></th>\n",
       "      <th>Name</th>\n",
       "      <th>Latitude</th>\n",
       "      <th>Longitude</th>\n",
       "      <th>FuelRefer</th>\n",
       "      <th>FuelCityID</th>\n",
       "      <th>Oil1Price</th>\n",
       "      <th>Oil2Price</th>\n",
       "      <th>PropanePrice</th>\n",
       "      <th>BirchPrice</th>\n",
       "      <th>SprucePrice</th>\n",
       "      <th>CoalPrice</th>\n",
       "      <th>SteamPrice</th>\n",
       "      <th>HotWaterPrice</th>\n",
       "      <th>MunicipalSalesTax</th>\n",
       "      <th>BoroughSalesTax</th>\n",
       "      <th>TMYid</th>\n",
       "      <th>TMYname</th>\n",
       "      <th>ElecUtilities</th>\n",
       "      <th>GasPrice</th>\n",
       "    </tr>\n",
       "    <tr>\n",
       "      <th>ID</th>\n",
       "      <th></th>\n",
       "      <th></th>\n",
       "      <th></th>\n",
       "      <th></th>\n",
       "      <th></th>\n",
       "      <th></th>\n",
       "      <th></th>\n",
       "      <th></th>\n",
       "      <th></th>\n",
       "      <th></th>\n",
       "      <th></th>\n",
       "      <th></th>\n",
       "      <th></th>\n",
       "      <th></th>\n",
       "      <th></th>\n",
       "      <th></th>\n",
       "      <th></th>\n",
       "      <th></th>\n",
       "      <th></th>\n",
       "    </tr>\n",
       "  </thead>\n",
       "  <tbody>\n",
       "    <tr>\n",
       "      <th>240</th>\n",
       "      <td>Eyak</td>\n",
       "      <td>60.56</td>\n",
       "      <td>-145.7</td>\n",
       "      <td>1</td>\n",
       "      <td>38.0</td>\n",
       "      <td>3.01</td>\n",
       "      <td>NaN</td>\n",
       "      <td>4.00</td>\n",
       "      <td>NaN</td>\n",
       "      <td>NaN</td>\n",
       "      <td>NaN</td>\n",
       "      <td>NaN</td>\n",
       "      <td>NaN</td>\n",
       "      <td>NaN</td>\n",
       "      <td>NaN</td>\n",
       "      <td>702960</td>\n",
       "      <td>CORDOVA, AK</td>\n",
       "      <td>[(Cordova Electric Cooperative - Residential, ...</td>\n",
       "      <td>NaN</td>\n",
       "    </tr>\n",
       "    <tr>\n",
       "      <th>322</th>\n",
       "      <td>Faribanks - Chena Ridge</td>\n",
       "      <td>64.80</td>\n",
       "      <td>-148.0</td>\n",
       "      <td>1</td>\n",
       "      <td>293.0</td>\n",
       "      <td>2.89</td>\n",
       "      <td>NaN</td>\n",
       "      <td>3.99</td>\n",
       "      <td>350.0</td>\n",
       "      <td>250.0</td>\n",
       "      <td>NaN</td>\n",
       "      <td>10.5</td>\n",
       "      <td>23.4</td>\n",
       "      <td>NaN</td>\n",
       "      <td>NaN</td>\n",
       "      <td>702610</td>\n",
       "      <td>FAIRBANKS INTL ARPT, AK</td>\n",
       "      <td>[(Golden Valley Electric - Residential, 3), (G...</td>\n",
       "      <td>2.08</td>\n",
       "    </tr>\n",
       "  </tbody>\n",
       "</table>\n",
       "</div>"
      ],
      "text/plain": [
       "                        Name  Latitude  Longitude  FuelRefer  FuelCityID  \\\n",
       "ID                                                                         \n",
       "240                     Eyak     60.56     -145.7          1        38.0   \n",
       "322  Faribanks - Chena Ridge     64.80     -148.0          1       293.0   \n",
       "\n",
       "     Oil1Price  Oil2Price  PropanePrice  BirchPrice  SprucePrice  CoalPrice  \\\n",
       "ID                                                                            \n",
       "240       3.01        NaN          4.00         NaN          NaN        NaN   \n",
       "322       2.89        NaN          3.99       350.0        250.0        NaN   \n",
       "\n",
       "     SteamPrice  HotWaterPrice  MunicipalSalesTax  BoroughSalesTax   TMYid  \\\n",
       "ID                                                                           \n",
       "240         NaN            NaN                NaN              NaN  702960   \n",
       "322        10.5           23.4                NaN              NaN  702610   \n",
       "\n",
       "                     TMYname  \\\n",
       "ID                             \n",
       "240              CORDOVA, AK   \n",
       "322  FAIRBANKS INTL ARPT, AK   \n",
       "\n",
       "                                         ElecUtilities  GasPrice  \n",
       "ID                                                                \n",
       "240  [(Cordova Electric Cooperative - Residential, ...       NaN  \n",
       "322  [(Golden Valley Electric - Residential, 3), (G...      2.08  "
      ]
     },
     "execution_count": 8,
     "metadata": {},
     "output_type": "execute_result"
    }
   ],
   "source": [
    "library.df_city.query('FuelRefer > 0')"
   ]
  },
  {
   "cell_type": "code",
   "execution_count": 9,
   "metadata": {},
   "outputs": [
    {
     "data": {
      "text/plain": [
       "[('Adak', 2), ('Akhiok', 283), ('Akiachak', 84), ('Akiak', 85), ('Akutan', 3)]"
      ]
     },
     "execution_count": 9,
     "metadata": {},
     "output_type": "execute_result"
    }
   ],
   "source": [
    "library.cities()[:5]"
   ]
  },
  {
   "cell_type": "code",
   "execution_count": 11,
   "metadata": {},
   "outputs": [
    {
     "data": {
      "text/plain": [
       "Name                                                         Anchorage\n",
       "Latitude                                                         61.15\n",
       "Longitude                                                      -149.86\n",
       "FuelRefer                                                            0\n",
       "FuelCityID                                                         NaN\n",
       "Oil1Price                                                         3.07\n",
       "Oil2Price                                                          NaN\n",
       "PropanePrice                                                       4.5\n",
       "BirchPrice                                                         325\n",
       "SprucePrice                                                        345\n",
       "CoalPrice                                                          175\n",
       "SteamPrice                                                         NaN\n",
       "HotWaterPrice                                                      NaN\n",
       "MunicipalSalesTax                                                  NaN\n",
       "BoroughSalesTax                                                    NaN\n",
       "TMYid                                                           702730\n",
       "TMYname                                          ANCHORAGE INTL AP, AK\n",
       "ElecUtilities        [(Anchorage ML&P - Residential, 2), (Anchorage...\n",
       "GasPrice                                                          0.97\n",
       "Name: 1, dtype: object"
      ]
     },
     "execution_count": 11,
     "metadata": {},
     "output_type": "execute_result"
    }
   ],
   "source": [
    "library.city_from_id(1)"
   ]
  },
  {
   "cell_type": "code",
   "execution_count": 21,
   "metadata": {},
   "outputs": [
    {
     "data": {
      "text/plain": [
       "ID                                                                      1\n",
       "LibVersion                                              2/27/2018 0:00:00\n",
       "DiscountRate                                                         0.03\n",
       "RegSurcharge                                                       0.0032\n",
       "RegSurchargeElectric                                               0.0009\n",
       "PCEkWhLimit                                                           500\n",
       "PCEFundingPct                                                           1\n",
       "MiscNotes               Inflation factors and discount rate from 2011 ...\n",
       "Name: 0, dtype: object"
      ]
     },
     "execution_count": 21,
     "metadata": {},
     "output_type": "execute_result"
    }
   ],
   "source": [
    "library.miscellaneous_info()"
   ]
  },
  {
   "cell_type": "code",
   "execution_count": 22,
   "metadata": {},
   "outputs": [
    {
     "data": {
      "text/plain": [
       "ID                                                              1\n",
       "Name                                Chugach Electric- Residential\n",
       "Active                                                          1\n",
       "Type                                                            1\n",
       "IsCommercial                                                    0\n",
       "ChargesRCC                                                      1\n",
       "PCE                                                             0\n",
       "CO2                                                           1.1\n",
       "CustomerChg                                                     8\n",
       "DemandCharge                                                  NaN\n",
       "NameShort                                                  Chugac\n",
       "Blocks          [(nan, 0.17713), (nan, nan), (nan, nan), (nan,...\n",
       "Name: 1, dtype: object"
      ]
     },
     "execution_count": 22,
     "metadata": {},
     "output_type": "execute_result"
    }
   ],
   "source": [
    "library.util_from_id(1)"
   ]
  },
  {
   "cell_type": "code",
   "execution_count": 26,
   "metadata": {},
   "outputs": [
    {
     "name": "stdout",
     "output_type": "stream",
     "text": [
      "[(nan, 0.17713), (nan, nan), (nan, nan), (nan, nan), (nan, nan)]\n",
      "[(100.0, 0.8109000000000001), (400.0, 0.7409000000000001), (500.0, 0.6609), (1000.0, 0.5909), (nan, 0.5609000000000001)]\n"
     ]
    }
   ],
   "source": [
    "print(library.util_from_id(1).Blocks)\n",
    "print(library.util_from_id(383).Blocks)"
   ]
  },
  {
   "cell_type": "code",
   "execution_count": 17,
   "metadata": {},
   "outputs": [
    {
     "data": {
      "text/plain": [
       "1e+45"
      ]
     },
     "execution_count": 17,
     "metadata": {},
     "output_type": "execute_result"
    }
   ],
   "source": [
    "min(1e45, math.inf)"
   ]
  },
  {
   "cell_type": "code",
   "execution_count": 18,
   "metadata": {},
   "outputs": [
    {
     "data": {
      "text/plain": [
       "<module 'elec_cost' from 'C:\\\\Users\\\\Alan\\\\Documents\\\\GitHub\\\\heat-pump-calc\\\\elec_cost.py'>"
      ]
     },
     "execution_count": 18,
     "metadata": {},
     "output_type": "execute_result"
    }
   ],
   "source": [
    "import elec_cost\n",
    "reload(elec_cost)"
   ]
  },
  {
   "cell_type": "code",
   "execution_count": 19,
   "metadata": {},
   "outputs": [
    {
     "name": "stdout",
     "output_type": "stream",
     "text": [
      "[(100.0, 0.81), (400.0, 0.74), (500.0, 0.66), (1000.0, 0.5900000000000001), (nan, 0.56)]\n",
      "[(100.0, 0.81), (300.0, 0.74), (100.0, 0.66), (500.0, 0.5900000000000001), (inf, 0.56)]\n",
      "[(100.0, 0.7100000000000001), (300.0, 0.64), (100.0, 0.56), (500.0, 0.5900000000000001), (inf, 0.56)]\n",
      "[(100.0, 0.7200000000000001), (300.0, 0.65), (100.0, 0.5700000000000001), (500.0, 0.6000000000000001), (inf, 0.5700000000000001)]\n",
      "[(100.0, 1.4400000000000002), (300.0, 1.3), (100.0, 1.1400000000000001), (500.0, 1.2000000000000002), (inf, 1.1400000000000001)]\n",
      "[(100.0, 0.7100000000000001), (100.0, 0.64), (200.0, 0.74), (100.0, 0.66), (500.0, 0.5900000000000001), (inf, 0.56)]\n",
      "[(100.0, 0.7100000000000001), (300.0, 0.64), (100.0, 0.56), (500.0, 0.4900000000000001), (inf, 0.4600000000000001)]\n"
     ]
    }
   ],
   "source": [
    "blocks = library.utility_blocks(383)\n",
    "#blocks = library.utility_blocks(1)\n",
    "print(blocks)\n",
    "ec = elec_cost.ElecCostCalc(blocks, pce_limit=300)  # but no PCE\n",
    "print(ec.final_blocks())\n",
    "ec = elec_cost.ElecCostCalc(blocks, pce=0.1)\n",
    "print(ec.final_blocks())\n",
    "ec = elec_cost.ElecCostCalc(blocks, pce=0.1, reg_surchg=0.01)\n",
    "print(ec.final_blocks())\n",
    "ec = elec_cost.ElecCostCalc(blocks, pce=0.1, reg_surchg=0.01, sales_tax=1.)\n",
    "print(ec.final_blocks())\n",
    "ec = elec_cost.ElecCostCalc(blocks, pce=0.1, pce_limit=200)\n",
    "print(ec.final_blocks())\n",
    "ec = elec_cost.ElecCostCalc(blocks, pce=0.1, pce_limit=None)\n",
    "print(ec.final_blocks())"
   ]
  },
  {
   "cell_type": "code",
   "execution_count": 24,
   "metadata": {},
   "outputs": [
    {
     "data": {
      "text/plain": [
       "('Natural Gas', 'ccf', 103700.0, 116.0)"
      ]
     },
     "execution_count": 24,
     "metadata": {},
     "output_type": "execute_result"
    }
   ],
   "source": [
    "library.Fuel.NATURAL_GAS.value"
   ]
  },
  {
   "cell_type": "code",
   "execution_count": 25,
   "metadata": {},
   "outputs": [
    {
     "data": {
      "text/plain": [
       "[<Fuel.NATURAL_GAS: ('Natural Gas', 'ccf', 103700.0, 116.0)>,\n",
       " <Fuel.PROPANE: ('Propane', 'gallon', 91333.0, 138.0)>,\n",
       " <Fuel.OIL1: ('#1 Oil', 'gallon', 137452.0, 160.0)>,\n",
       " <Fuel.OIL2: ('#2 Oil', 'gallon', 138500.0, 160.0)>,\n",
       " <Fuel.BIRCH: ('Birch Wood', 'cord', 26200000.0, 0.0)>,\n",
       " <Fuel.SPRUCE: ('Spruce Wood', 'cord', 18100000.0, 0.0)>,\n",
       " <Fuel.COAL: ('Coal', 'ton', 15100000.0, 291.0)>,\n",
       " <Fuel.DISTRICT_STEAM: ('District Heat, Steam', 'thousand pounds', 960000.0, 58.0)>,\n",
       " <Fuel.DISTRICT_HW: ('District Heat, Hot Water', 'million BTU', 1000000.0, 58.0)>]"
      ]
     },
     "execution_count": 25,
     "metadata": {},
     "output_type": "execute_result"
    }
   ],
   "source": [
    "list(library.Fuel)"
   ]
  },
  {
   "cell_type": "code",
   "execution_count": 6,
   "metadata": {},
   "outputs": [
    {
     "data": {
      "text/plain": [
       "[('Natural Gas', 1),\n",
       " ('Propane', 2),\n",
       " ('#1 Oil', 3),\n",
       " ('#2 Oil', 4),\n",
       " ('Birch Wood', 5),\n",
       " ('Spruce Wood', 6),\n",
       " ('Coal', 7),\n",
       " ('District Heat, Steam', 8),\n",
       " ('District Heat, Hot Water', 9)]"
      ]
     },
     "execution_count": 6,
     "metadata": {},
     "output_type": "execute_result"
    }
   ],
   "source": [
    "library.fuels()"
   ]
  },
  {
   "cell_type": "code",
   "execution_count": 7,
   "metadata": {},
   "outputs": [
    {
     "data": {
      "text/plain": [
       "desc         Spruce Wood\n",
       "unit                cord\n",
       "btus            1.81e+07\n",
       "co2                    0\n",
       "price_col    SprucePrice\n",
       "Name: 6, dtype: object"
      ]
     },
     "execution_count": 7,
     "metadata": {},
     "output_type": "execute_result"
    }
   ],
   "source": [
    "library.fuel_from_id(6)"
   ]
  },
  {
   "cell_type": "code",
   "execution_count": 8,
   "metadata": {},
   "outputs": [
    {
     "data": {
      "text/plain": [
       "345.0"
      ]
     },
     "execution_count": 8,
     "metadata": {},
     "output_type": "execute_result"
    }
   ],
   "source": [
    "library.fuel_price(6, 1)"
   ]
  },
  {
   "cell_type": "code",
   "execution_count": 14,
   "metadata": {},
   "outputs": [
    {
     "data": {
      "text/html": [
       "<div>\n",
       "<style scoped>\n",
       "    .dataframe tbody tr th:only-of-type {\n",
       "        vertical-align: middle;\n",
       "    }\n",
       "\n",
       "    .dataframe tbody tr th {\n",
       "        vertical-align: top;\n",
       "    }\n",
       "\n",
       "    .dataframe thead th {\n",
       "        text-align: right;\n",
       "    }\n",
       "</style>\n",
       "<table border=\"1\" class=\"dataframe\">\n",
       "  <thead>\n",
       "    <tr style=\"text-align: right;\">\n",
       "      <th></th>\n",
       "      <th>db_temp</th>\n",
       "      <th>rh</th>\n",
       "      <th>wind_spd</th>\n",
       "      <th>month</th>\n",
       "    </tr>\n",
       "  </thead>\n",
       "  <tbody>\n",
       "    <tr>\n",
       "      <th>2018-01-01 00:30:00</th>\n",
       "      <td>35.06</td>\n",
       "      <td>92</td>\n",
       "      <td>36.909510</td>\n",
       "      <td>1</td>\n",
       "    </tr>\n",
       "    <tr>\n",
       "      <th>2018-01-01 01:30:00</th>\n",
       "      <td>35.06</td>\n",
       "      <td>92</td>\n",
       "      <td>38.027980</td>\n",
       "      <td>1</td>\n",
       "    </tr>\n",
       "    <tr>\n",
       "      <th>2018-01-01 02:30:00</th>\n",
       "      <td>35.06</td>\n",
       "      <td>92</td>\n",
       "      <td>36.909510</td>\n",
       "      <td>1</td>\n",
       "    </tr>\n",
       "    <tr>\n",
       "      <th>2018-01-01 03:30:00</th>\n",
       "      <td>35.96</td>\n",
       "      <td>85</td>\n",
       "      <td>39.146450</td>\n",
       "      <td>1</td>\n",
       "    </tr>\n",
       "    <tr>\n",
       "      <th>2018-01-01 04:30:00</th>\n",
       "      <td>35.96</td>\n",
       "      <td>85</td>\n",
       "      <td>35.567346</td>\n",
       "      <td>1</td>\n",
       "    </tr>\n",
       "  </tbody>\n",
       "</table>\n",
       "</div>"
      ],
      "text/plain": [
       "                     db_temp  rh   wind_spd  month\n",
       "2018-01-01 00:30:00    35.06  92  36.909510      1\n",
       "2018-01-01 01:30:00    35.06  92  38.027980      1\n",
       "2018-01-01 02:30:00    35.06  92  36.909510      1\n",
       "2018-01-01 03:30:00    35.96  85  39.146450      1\n",
       "2018-01-01 04:30:00    35.96  85  35.567346      1"
      ]
     },
     "execution_count": 14,
     "metadata": {},
     "output_type": "execute_result"
    }
   ],
   "source": [
    "library.tmy_from_id(702190).head()"
   ]
  }
 ],
 "metadata": {
  "kernelspec": {
   "display_name": "Python 3",
   "language": "python",
   "name": "python3"
  },
  "language_info": {
   "codemirror_mode": {
    "name": "ipython",
    "version": 3
   },
   "file_extension": ".py",
   "mimetype": "text/x-python",
   "name": "python",
   "nbconvert_exporter": "python",
   "pygments_lexer": "ipython3",
   "version": "3.6.4"
  }
 },
 "nbformat": 4,
 "nbformat_minor": 2
}
