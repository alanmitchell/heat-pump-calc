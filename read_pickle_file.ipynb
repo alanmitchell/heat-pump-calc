{
 "cells": [
  {
   "cell_type": "markdown",
   "metadata": {},
   "source": [
    "# Shows How to Open and Use Pickled Run Files"
   ]
  },
  {
   "cell_type": "code",
   "execution_count": 2,
   "metadata": {},
   "outputs": [],
   "source": [
    "import pickle\n",
    "import gzip"
   ]
  },
  {
   "cell_type": "code",
   "execution_count": 3,
   "metadata": {},
   "outputs": [],
   "source": [
    "with gzip.open('hpcalc_runs/1579624765.12.pkl.gz', 'rb') as f:\n",
    "    cobj = pickle.load(f)"
   ]
  },
  {
   "cell_type": "code",
   "execution_count": 19,
   "metadata": {
    "scrolled": true
   },
   "outputs": [
    {
     "data": {
      "text/plain": [
       "'__class__, __delattr__, __dict__, __dir__, __doc__, __eq__, __format__, __ge__, __getattribute__, __gt__, __hash__, __init__, __init_subclass__, __le__, __lt__, __module__, __ne__, __new__, __reduce__, __reduce_ex__, __repr__, __setattr__, __sizeof__, __str__, __subclasshook__, __weakref__, ann_en_base, ann_en_hp, bedroom_temp_tolerance, bldg_floor_area, bldg_name, calc_cash_flow, calc_monthly_cash, capital_cost, city, city_id, co2_lbs_per_kwh, df_cash_flow, df_hourly, df_mo_dol_base, df_mo_dol_hp, df_mo_en_base, df_mo_en_hp, discount_rate, doors_open_to_adjacent, elec_esc_rate, elec_use_jan, elec_use_may, exist_fuel, exist_fuel_use, exist_heat_effic, exist_heat_fuel_id, exist_kwh_per_mmbtu, exist_unit_fuel_cost, fuel_esc_rate, fuel_other_uses, garage_heated_by_hp, garage_stall_count, hp_life, hp_model, hp_model_id, includes_cooking, includes_dhw, includes_dryer, indoor_heat_setpoint, inflation_rate, insul_level, lights_other_elec, loan_interest, loan_term, low_temp_cutoff, notes, occupant_count, off_months_chks, op_cost_chg, pce_limit, pct_exposed_to_hp, pct_financed, rebate_dol, run, sales_tax, summary, ua_true_up, utility'"
      ]
     },
     "execution_count": 19,
     "metadata": {},
     "output_type": "execute_result"
    }
   ],
   "source": [
    "', '.join(dir(cobj))"
   ]
  },
  {
   "cell_type": "code",
   "execution_count": 13,
   "metadata": {},
   "outputs": [
    {
     "data": {
      "text/html": [
       "<div>\n",
       "<style scoped>\n",
       "    .dataframe tbody tr th:only-of-type {\n",
       "        vertical-align: middle;\n",
       "    }\n",
       "\n",
       "    .dataframe tbody tr th {\n",
       "        vertical-align: top;\n",
       "    }\n",
       "\n",
       "    .dataframe thead th {\n",
       "        text-align: right;\n",
       "    }\n",
       "</style>\n",
       "<table border=\"1\" class=\"dataframe\">\n",
       "  <thead>\n",
       "    <tr style=\"text-align: right;\">\n",
       "      <th></th>\n",
       "      <th>hp_load_mmbtu</th>\n",
       "      <th>secondary_load_mmbtu</th>\n",
       "      <th>hp_kwh</th>\n",
       "      <th>secondary_fuel_mmbtu</th>\n",
       "      <th>secondary_kwh</th>\n",
       "      <th>total_kwh</th>\n",
       "      <th>hp_kw</th>\n",
       "      <th>secondary_kw</th>\n",
       "      <th>total_kw</th>\n",
       "      <th>secondary_fuel_units</th>\n",
       "      <th>cop</th>\n",
       "      <th>co2_lbs</th>\n",
       "    </tr>\n",
       "  </thead>\n",
       "  <tbody>\n",
       "    <tr>\n",
       "      <th>Jan</th>\n",
       "      <td>0.0</td>\n",
       "      <td>2.282893</td>\n",
       "      <td>0.0</td>\n",
       "      <td>0.0</td>\n",
       "      <td>668.881770</td>\n",
       "      <td>668.881770</td>\n",
       "      <td>0.0</td>\n",
       "      <td>2.422820</td>\n",
       "      <td>2.422820</td>\n",
       "      <td>0.0</td>\n",
       "      <td>NaN</td>\n",
       "      <td>1137.099009</td>\n",
       "    </tr>\n",
       "    <tr>\n",
       "      <th>Feb</th>\n",
       "      <td>0.0</td>\n",
       "      <td>1.523764</td>\n",
       "      <td>0.0</td>\n",
       "      <td>0.0</td>\n",
       "      <td>446.458878</td>\n",
       "      <td>446.458878</td>\n",
       "      <td>0.0</td>\n",
       "      <td>1.875912</td>\n",
       "      <td>1.875912</td>\n",
       "      <td>0.0</td>\n",
       "      <td>NaN</td>\n",
       "      <td>758.980092</td>\n",
       "    </tr>\n",
       "    <tr>\n",
       "      <th>Mar</th>\n",
       "      <td>0.0</td>\n",
       "      <td>1.331059</td>\n",
       "      <td>0.0</td>\n",
       "      <td>0.0</td>\n",
       "      <td>389.996648</td>\n",
       "      <td>389.996648</td>\n",
       "      <td>0.0</td>\n",
       "      <td>1.567654</td>\n",
       "      <td>1.567654</td>\n",
       "      <td>0.0</td>\n",
       "      <td>NaN</td>\n",
       "      <td>662.994302</td>\n",
       "    </tr>\n",
       "    <tr>\n",
       "      <th>Apr</th>\n",
       "      <td>0.0</td>\n",
       "      <td>0.233405</td>\n",
       "      <td>0.0</td>\n",
       "      <td>0.0</td>\n",
       "      <td>68.387158</td>\n",
       "      <td>68.387158</td>\n",
       "      <td>0.0</td>\n",
       "      <td>0.712488</td>\n",
       "      <td>0.712488</td>\n",
       "      <td>0.0</td>\n",
       "      <td>NaN</td>\n",
       "      <td>116.258168</td>\n",
       "    </tr>\n",
       "    <tr>\n",
       "      <th>May</th>\n",
       "      <td>0.0</td>\n",
       "      <td>0.008384</td>\n",
       "      <td>0.0</td>\n",
       "      <td>0.0</td>\n",
       "      <td>2.456437</td>\n",
       "      <td>2.456437</td>\n",
       "      <td>0.0</td>\n",
       "      <td>0.274962</td>\n",
       "      <td>0.274962</td>\n",
       "      <td>0.0</td>\n",
       "      <td>NaN</td>\n",
       "      <td>4.175943</td>\n",
       "    </tr>\n",
       "    <tr>\n",
       "      <th>Jun</th>\n",
       "      <td>0.0</td>\n",
       "      <td>0.000000</td>\n",
       "      <td>0.0</td>\n",
       "      <td>0.0</td>\n",
       "      <td>0.000000</td>\n",
       "      <td>0.000000</td>\n",
       "      <td>0.0</td>\n",
       "      <td>0.000000</td>\n",
       "      <td>0.000000</td>\n",
       "      <td>0.0</td>\n",
       "      <td>NaN</td>\n",
       "      <td>0.000000</td>\n",
       "    </tr>\n",
       "    <tr>\n",
       "      <th>Jul</th>\n",
       "      <td>0.0</td>\n",
       "      <td>0.000000</td>\n",
       "      <td>0.0</td>\n",
       "      <td>0.0</td>\n",
       "      <td>0.000000</td>\n",
       "      <td>0.000000</td>\n",
       "      <td>0.0</td>\n",
       "      <td>0.000000</td>\n",
       "      <td>0.000000</td>\n",
       "      <td>0.0</td>\n",
       "      <td>NaN</td>\n",
       "      <td>0.000000</td>\n",
       "    </tr>\n",
       "    <tr>\n",
       "      <th>Aug</th>\n",
       "      <td>0.0</td>\n",
       "      <td>0.000000</td>\n",
       "      <td>0.0</td>\n",
       "      <td>0.0</td>\n",
       "      <td>0.000000</td>\n",
       "      <td>0.000000</td>\n",
       "      <td>0.0</td>\n",
       "      <td>0.000000</td>\n",
       "      <td>0.000000</td>\n",
       "      <td>0.0</td>\n",
       "      <td>NaN</td>\n",
       "      <td>0.000000</td>\n",
       "    </tr>\n",
       "    <tr>\n",
       "      <th>Sep</th>\n",
       "      <td>0.0</td>\n",
       "      <td>0.000000</td>\n",
       "      <td>0.0</td>\n",
       "      <td>0.0</td>\n",
       "      <td>0.000000</td>\n",
       "      <td>0.000000</td>\n",
       "      <td>0.0</td>\n",
       "      <td>0.000000</td>\n",
       "      <td>0.000000</td>\n",
       "      <td>0.0</td>\n",
       "      <td>NaN</td>\n",
       "      <td>0.000000</td>\n",
       "    </tr>\n",
       "    <tr>\n",
       "      <th>Oct</th>\n",
       "      <td>0.0</td>\n",
       "      <td>0.203366</td>\n",
       "      <td>0.0</td>\n",
       "      <td>0.0</td>\n",
       "      <td>59.585619</td>\n",
       "      <td>59.585619</td>\n",
       "      <td>0.0</td>\n",
       "      <td>0.990914</td>\n",
       "      <td>0.990914</td>\n",
       "      <td>0.0</td>\n",
       "      <td>NaN</td>\n",
       "      <td>101.295553</td>\n",
       "    </tr>\n",
       "    <tr>\n",
       "      <th>Nov</th>\n",
       "      <td>0.0</td>\n",
       "      <td>1.133484</td>\n",
       "      <td>0.0</td>\n",
       "      <td>0.0</td>\n",
       "      <td>332.107765</td>\n",
       "      <td>332.107765</td>\n",
       "      <td>0.0</td>\n",
       "      <td>1.488104</td>\n",
       "      <td>1.488104</td>\n",
       "      <td>0.0</td>\n",
       "      <td>NaN</td>\n",
       "      <td>564.583201</td>\n",
       "    </tr>\n",
       "    <tr>\n",
       "      <th>Dec</th>\n",
       "      <td>0.0</td>\n",
       "      <td>1.785574</td>\n",
       "      <td>0.0</td>\n",
       "      <td>0.0</td>\n",
       "      <td>523.168402</td>\n",
       "      <td>523.168402</td>\n",
       "      <td>0.0</td>\n",
       "      <td>2.044956</td>\n",
       "      <td>2.044956</td>\n",
       "      <td>0.0</td>\n",
       "      <td>NaN</td>\n",
       "      <td>889.386283</td>\n",
       "    </tr>\n",
       "  </tbody>\n",
       "</table>\n",
       "</div>"
      ],
      "text/plain": [
       "     hp_load_mmbtu  secondary_load_mmbtu  hp_kwh  secondary_fuel_mmbtu  \\\n",
       "Jan            0.0              2.282893     0.0                   0.0   \n",
       "Feb            0.0              1.523764     0.0                   0.0   \n",
       "Mar            0.0              1.331059     0.0                   0.0   \n",
       "Apr            0.0              0.233405     0.0                   0.0   \n",
       "May            0.0              0.008384     0.0                   0.0   \n",
       "Jun            0.0              0.000000     0.0                   0.0   \n",
       "Jul            0.0              0.000000     0.0                   0.0   \n",
       "Aug            0.0              0.000000     0.0                   0.0   \n",
       "Sep            0.0              0.000000     0.0                   0.0   \n",
       "Oct            0.0              0.203366     0.0                   0.0   \n",
       "Nov            0.0              1.133484     0.0                   0.0   \n",
       "Dec            0.0              1.785574     0.0                   0.0   \n",
       "\n",
       "     secondary_kwh   total_kwh  hp_kw  secondary_kw  total_kw  \\\n",
       "Jan     668.881770  668.881770    0.0      2.422820  2.422820   \n",
       "Feb     446.458878  446.458878    0.0      1.875912  1.875912   \n",
       "Mar     389.996648  389.996648    0.0      1.567654  1.567654   \n",
       "Apr      68.387158   68.387158    0.0      0.712488  0.712488   \n",
       "May       2.456437    2.456437    0.0      0.274962  0.274962   \n",
       "Jun       0.000000    0.000000    0.0      0.000000  0.000000   \n",
       "Jul       0.000000    0.000000    0.0      0.000000  0.000000   \n",
       "Aug       0.000000    0.000000    0.0      0.000000  0.000000   \n",
       "Sep       0.000000    0.000000    0.0      0.000000  0.000000   \n",
       "Oct      59.585619   59.585619    0.0      0.990914  0.990914   \n",
       "Nov     332.107765  332.107765    0.0      1.488104  1.488104   \n",
       "Dec     523.168402  523.168402    0.0      2.044956  2.044956   \n",
       "\n",
       "     secondary_fuel_units  cop      co2_lbs  \n",
       "Jan                   0.0  NaN  1137.099009  \n",
       "Feb                   0.0  NaN   758.980092  \n",
       "Mar                   0.0  NaN   662.994302  \n",
       "Apr                   0.0  NaN   116.258168  \n",
       "May                   0.0  NaN     4.175943  \n",
       "Jun                   0.0  NaN     0.000000  \n",
       "Jul                   0.0  NaN     0.000000  \n",
       "Aug                   0.0  NaN     0.000000  \n",
       "Sep                   0.0  NaN     0.000000  \n",
       "Oct                   0.0  NaN   101.295553  \n",
       "Nov                   0.0  NaN   564.583201  \n",
       "Dec                   0.0  NaN   889.386283  "
      ]
     },
     "execution_count": 13,
     "metadata": {},
     "output_type": "execute_result"
    }
   ],
   "source": [
    "cobj.df_mo_en_base"
   ]
  },
  {
   "cell_type": "code",
   "execution_count": 20,
   "metadata": {},
   "outputs": [
    {
     "data": {
      "text/plain": [
       "hp_load_mmbtu              0.000000\n",
       "secondary_load_mmbtu       8.501929\n",
       "hp_kwh                     0.000000\n",
       "secondary_fuel_mmbtu       0.000000\n",
       "secondary_kwh           2491.042678\n",
       "total_kwh               2491.042678\n",
       "hp_kw                      0.000000\n",
       "secondary_kw               2.422820\n",
       "total_kw                   2.422820\n",
       "secondary_fuel_units       0.000000\n",
       "cop                             NaN\n",
       "co2_lbs                 4234.772552\n",
       "dtype: float64"
      ]
     },
     "execution_count": 20,
     "metadata": {},
     "output_type": "execute_result"
    }
   ],
   "source": [
    "cobj.ann_en_base"
   ]
  },
  {
   "cell_type": "code",
   "execution_count": 21,
   "metadata": {},
   "outputs": [
    {
     "data": {
      "text/plain": [
       "0.3836899719404524"
      ]
     },
     "execution_count": 21,
     "metadata": {},
     "output_type": "execute_result"
    }
   ],
   "source": [
    "cobj.ua_true_up"
   ]
  },
  {
   "cell_type": "code",
   "execution_count": 16,
   "metadata": {},
   "outputs": [
    {
     "data": {
      "text/plain": [
       "4316"
      ]
     },
     "execution_count": 16,
     "metadata": {},
     "output_type": "execute_result"
    }
   ],
   "source": [
    "9522 - 5206"
   ]
  }
 ],
 "metadata": {
  "kernelspec": {
   "display_name": "Python 3",
   "language": "python",
   "name": "python3"
  },
  "language_info": {
   "codemirror_mode": {
    "name": "ipython",
    "version": 3
   },
   "file_extension": ".py",
   "mimetype": "text/x-python",
   "name": "python",
   "nbconvert_exporter": "python",
   "pygments_lexer": "ipython3",
   "version": "3.7.3"
  }
 },
 "nbformat": 4,
 "nbformat_minor": 2
}
